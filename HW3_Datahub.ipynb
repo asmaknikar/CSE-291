{
 "cells": [
  {
   "cell_type": "code",
   "execution_count": null,
   "id": "6b20d216",
   "metadata": {},
   "outputs": [],
   "source": [
    "# !unzip -o training_data.zip \n",
    "# !unzip -o testing_data_final.zip \n",
    "# !unzip -o models.zip \n",
    "# !unzip -o testing_data_pose.zip \n"
   ]
  },
  {
   "cell_type": "code",
   "execution_count": null,
   "id": "d16d201f",
   "metadata": {},
   "outputs": [],
   "source": [
    "# !pip install open3d\n",
    "# !pip install transforms3d\n",
    "# !pip install pillow\n",
    "# !pip install torchsummary"
   ]
  },
  {
   "cell_type": "markdown",
   "id": "65457afd",
   "metadata": {},
   "source": [
    "# Training"
   ]
  },
  {
   "cell_type": "code",
   "execution_count": 1,
   "id": "203aa53b",
   "metadata": {},
   "outputs": [
    {
     "name": "stdout",
     "output_type": "stream",
     "text": [
      "Jupyter environment detected. Enabling Open3D WebVisualizer.\n",
      "[Open3D INFO] WebRTC GUI backend enabled.\n",
      "[Open3D INFO] WebRTCWindowSystem: HTTP handshake server disabled.\n"
     ]
    }
   ],
   "source": [
    "import json\n",
    "import multiprocessing\n",
    "import os\n",
    "import pickle\n",
    "from collections import defaultdict\n",
    "from multiprocessing import Manager, Pool\n",
    "from multiprocessing.managers import SyncManager\n",
    "from operator import attrgetter\n",
    "from pathlib import Path\n",
    "\n",
    "import matplotlib.pyplot as plt\n",
    "import numpy as np\n",
    "import open3d\n",
    "from PIL import Image\n",
    "from tqdm import tqdm\n",
    "\n",
    "import utils\n",
    "from benchmark_utils import pose_utils\n",
    "from sklearn.decomposition import PCA\n",
    "from scipy.spatial.transform import Rotation as R\n",
    "import warnings\n",
    "\n",
    "import torch\n",
    "from torch.nn import Conv2d\n",
    "from torch import nn\n",
    "from torchsummary import summary\n",
    "from tqdm import tqdm\n",
    "from torch.utils.data import TensorDataset, DataLoader\n",
    "from torch.autograd import Variable\n",
    "import numpy as np\n",
    "import torch.nn.functional as F\n",
    "\n"
   ]
  },
  {
   "cell_type": "code",
   "execution_count": 2,
   "id": "b71caba2",
   "metadata": {},
   "outputs": [],
   "source": [
    "testing_data_dir = \"./testing_data_pose_filtered/testing_data/v2.2\"\n",
    "split_dir = \"./training_data_filtered/training_data/splits/v2\"\n",
    "training_data_dir = \"./training_data_filtered/training_data/v2.2\"\n"
   ]
  },
  {
   "cell_type": "markdown",
   "id": "7b8bb01c",
   "metadata": {},
   "source": [
    "# Functions"
   ]
  },
  {
   "cell_type": "code",
   "execution_count": 3,
   "id": "aa8117d5",
   "metadata": {},
   "outputs": [],
   "source": [
    "\n",
    "def load_pickle(filename):\n",
    "    with open(filename, 'rb') as f:\n",
    "        return pickle.load(f)\n",
    "def display_3d(points_viewer):\n",
    "    points = open3d.utility.Vector3dVector(points_viewer.reshape([-1, 3]))\n",
    "    colors = open3d.utility.Vector3dVector(rgb.reshape([-1, 3]))\n",
    "    pcd = open3d.geometry.PointCloud()\n",
    "    pcd.points = points\n",
    "    pcd.colors = colors\n",
    "    open3d.visualization.draw_geometries([pcd])\n",
    "\n",
    "\n",
    "def get_split_files(training_data_dir,split_dir,split_name):\n",
    "    with open(os.path.join(split_dir, f\"{split_name}.txt\"), 'r') as f:\n",
    "        prefix = [os.path.join(training_data_dir, line.strip()) for line in f if line.strip()]\n",
    "        rgb = [p + \"_color_kinect.png\" for p in prefix]\n",
    "        depth = [p + \"_depth_kinect.png\" for p in prefix]\n",
    "        label = [p + \"_label_kinect.png\" for p in prefix]\n",
    "        meta = [p + \"_meta.pkl\" for p in prefix]\n",
    "    return rgb, depth, label, meta\n",
    "\n",
    "def np2o3d(points_viewer):\n",
    "    # points = open3d.utility.Vector3dVector(points_viewer.reshape([-1, 3]))\n",
    "    # colors = open3d.utility.Vector3dVector(rgb.reshape([-1, 3]))\n",
    "    points = open3d.utility.Vector3dVector(points_viewer.reshape([-1, 3]))\n",
    "    pcd = open3d.geometry.PointCloud()\n",
    "    pcd.points = points\n",
    "    # pcd.colors = colors\n",
    "    return pcd\n",
    "\n",
    "def bbox2(img):\n",
    "    rows = np.any(img, axis=1)\n",
    "    cols = np.any(img, axis=0)\n",
    "    rmin, rmax = np.where(rows)[0][[0, -1]]\n",
    "    cmin, cmax = np.where(cols)[0][[0, -1]]\n",
    "\n",
    "    return rmin, rmax, cmin, cmax\n",
    "\n",
    "def draw_bb(poses_world,meta,rgb):\n",
    "    box_sizes = np.array([meta['extents'][idx] * meta['scales'][idx] for idx in meta['object_ids']])\n",
    "    boxed_image = np.array(rgb)\n",
    "    for i in range(len(poses_world)):\n",
    "        utils.draw_projected_box3d(\n",
    "            boxed_image, poses_world[i][:3,3], box_sizes[i], poses_world[i][:3, :3], meta['extrinsic'], meta['intrinsic'],\n",
    "            thickness=2)\n",
    "    # plt.plot(Image.fromarray((boxed_image * 255).astype(np.uint8)))\n",
    "    return(Image.fromarray((boxed_image * 255).astype(np.uint8)))\n",
    "\n",
    "def point_cloud_image_in_c(meta,depth):\n",
    "    intrinsic = meta['intrinsic']\n",
    "    z = depth\n",
    "    v, u = np.indices(z.shape)\n",
    "    uv1 = np.stack([u + 0.5, v + 0.5, np.ones_like(z)], axis=-1)\n",
    "    points_viewer = uv1 @ np.linalg.inv(intrinsic).T * z[..., None]  # [H, W, 3]\n",
    "    return(points_viewer)\n",
    "\n",
    "def align_rotation_matrix(vec1, vec2):\n",
    "    \"\"\"get rotation matrix between two vectors using scipy\n",
    "    vec1->source\n",
    "    vec2->target\n",
    "    \"\"\"\n",
    "    vec1 = np.reshape(vec1, (1, -1))\n",
    "    vec2 = np.reshape(vec2, (1, -1))\n",
    "    r = R.align_vectors(vec2, vec1)\n",
    "    return r[0].as_matrix()\n",
    "\n",
    "def rot_align_via_PCA(src,tgt):\n",
    "    try:\n",
    "        pca = PCA(n_components=3)\n",
    "        pca.fit(src)\n",
    "        eig_vec = pca.components_\n",
    "        normal_src = eig_vec[2, :] \n",
    "        pca = PCA(n_components=3)\n",
    "        pca.fit(tgt)\n",
    "        eig_vec = pca.components_\n",
    "        normal_tgt = eig_vec[2, :] \n",
    "        return(align_rotation_matrix(normal_src, normal_tgt))\n",
    "    except:\n",
    "        return(np.eye(3))\n",
    "    \n",
    "\n",
    "def get_best_transform(pcd,obj,skip = 64,train_red_factor = 1):\n",
    "    registrationResults = []\n",
    "    init_t = np.eye(4)\n",
    "    for pcd_tr in tqdm(point_cloud_dict[obj][::train_red_factor],leave=False):\n",
    "        pcd_tr = pcd_tr[::skip]\n",
    "        # pcd = pcd[::skip]\n",
    "        shift = (np.mean(pcd,0)-np.mean(pcd_tr,0))\n",
    "        init_t[:3,3] = shift\n",
    "        init_t[:3,:3] = rot_align_via_PCA(pcd_tr,pcd)\n",
    "        tmp = open3d.pipelines.registration.registration_icp(np2o3d(pcd_tr),\n",
    "                                                             np2o3d(pcd),\n",
    "                                                     0.2,init_t)        \n",
    "        registrationResults.append([len(tmp.correspondence_set),tmp.inlier_rmse,tmp.transformation])\n",
    "    registrationResults = np.array(registrationResults,dtype=object)\n",
    "    if(not(np.all(registrationResults[:,0]==0))):\n",
    "        registrationResults = registrationResults[np.squeeze(np.argwhere(registrationResults[:,0]!=0))]\n",
    "    registrationResults = registrationResults[np.argsort(-registrationResults[:,0])[:len(registrationResults)//5]]\n",
    "    T = np.copy(registrationResults[np.argmin(registrationResults[:,1])][2])\n",
    "    # print(T,registrationResults[np.argmin(registrationResults[:,1])],registrationResults)\n",
    "    # T[:3,3]+=shift\n",
    "    return(T)\n"
   ]
  },
  {
   "cell_type": "code",
   "execution_count": 4,
   "id": "db4b6120",
   "metadata": {},
   "outputs": [],
   "source": [
    "rgb_files, depth_files, label_files, meta_files = get_split_files(training_data_dir,split_dir,'val')"
   ]
  },
  {
   "cell_type": "code",
   "execution_count": 5,
   "id": "3a10d766",
   "metadata": {},
   "outputs": [],
   "source": [
    "from matplotlib.cm import get_cmap\n",
    "NUM_OBJECTS = 79\n",
    "cmap = get_cmap('rainbow', NUM_OBJECTS)\n",
    "COLOR_PALETTE = np.array([cmap(i)[:3] for i in range(NUM_OBJECTS + 3)])\n",
    "COLOR_PALETTE = np.array(COLOR_PALETTE * 255, dtype=np.uint8)\n",
    "COLOR_PALETTE[-3] = [119, 135, 150]\n",
    "COLOR_PALETTE[-2] = [176, 194, 216]\n",
    "COLOR_PALETTE[-1] = [255, 255, 225]"
   ]
  },
  {
   "cell_type": "code",
   "execution_count": 6,
   "id": "00cb7d5a",
   "metadata": {},
   "outputs": [
    {
     "data": {
      "text/plain": [
       "<matplotlib.image.AxesImage at 0x7fdc5a744a90>"
      ]
     },
     "execution_count": 6,
     "metadata": {},
     "output_type": "execute_result"
    },
    {
     "data": {
      "image/png": "[encoded data removed]",
      "text/plain": [
       "<Figure size 1080x720 with 3 Axes>"
      ]
     },
     "metadata": {
      "needs_background": "light"
     },
     "output_type": "display_data"
    }
   ],
   "source": [
    "rgb = np.array(Image.open(rgb_files[0])) / 255   # convert 0-255 to 0-1\n",
    "depth = np.array(Image.open(depth_files[0])) / 1000   # convert from mm to m\n",
    "label = np.array(Image.open(label_files[0]))\n",
    "plt.figure(figsize=(15, 10))\n",
    "plt.subplot(1, 3, 1)\n",
    "plt.imshow(rgb)\n",
    "plt.subplot(1, 3, 2)\n",
    "plt.imshow(depth)\n",
    "plt.subplot(1, 3, 3)\n",
    "plt.imshow(COLOR_PALETTE[label])  # draw colorful segmentation"
   ]
  },
  {
   "cell_type": "code",
   "execution_count": 7,
   "id": "75ef37a3",
   "metadata": {},
   "outputs": [
    {
     "data": {
      "text/plain": [
       "torch.Size([1464, 3])"
      ]
     },
     "execution_count": 7,
     "metadata": {},
     "output_type": "execute_result"
    }
   ],
   "source": [
    "rmin, rmax, cmin, cmax = bbox2(label==39)\n",
    "crop_img = rgb[rmin:(rmax+1 if (rmax-rmin)%2==1 else rmax),cmin:(cmax+1 if (cmax-cmin)%2==1 else cmax)]\n",
    "crop_lbl = label[rmin:(rmax+1 if (rmax-rmin)%2==1 else rmax),cmin:(cmax+1 if (cmax-cmin)%2==1 else cmax)]\n",
    "torch.tensor(crop_img)[torch.tensor(crop_lbl==39)].shape"
   ]
  },
  {
   "cell_type": "code",
   "execution_count": 8,
   "id": "27a44edd",
   "metadata": {},
   "outputs": [
    {
     "data": {
      "text/plain": [
       "(52, 38, 3)"
      ]
     },
     "execution_count": 8,
     "metadata": {},
     "output_type": "execute_result"
    }
   ],
   "source": [
    "(rgb[rmin:(rmax+1 if (rmax-rmin)%2==1 else rmax),\n",
    "               cmin:(cmax+1 if (cmax-cmin)%2==1 else cmax)]).shape"
   ]
  },
  {
   "cell_type": "markdown",
   "id": "f24bd410",
   "metadata": {},
   "source": [
    "# Applying UNet"
   ]
  },
  {
   "cell_type": "code",
   "execution_count": 9,
   "id": "f73d1978",
   "metadata": {},
   "outputs": [],
   "source": [
    "import torch\n",
    "from torch.nn import Conv2d\n",
    "from torch import nn\n",
    "from torchsummary import summary\n",
    "from tqdm import tqdm\n",
    "from torch.utils.data import TensorDataset, DataLoader\n",
    "\n"
   ]
  },
  {
   "cell_type": "code",
   "execution_count": 10,
   "id": "3b5f2bbd",
   "metadata": {},
   "outputs": [],
   "source": [
    "class Unet(torch.nn.Module):\n",
    "    def __init__(self):\n",
    "        super(Unet,self).__init__()\n",
    "        self.down1 = self.UnetDoubleConv(3,64)\n",
    "        self.down2 = self.UnetDoubleConv(64,128)\n",
    "        self.down3 = self.UnetDoubleConv(128,256)\n",
    "        self.down4 = self.UnetDoubleConv(256,512)\n",
    "        self.down5 = self.UnetDoubleConv(512,1024)\n",
    "        \n",
    "        self.up1 = self.UnetDoubleConv(64,82)\n",
    "        self.up2 = self.UnetDoubleConv(128,64)\n",
    "        self.up3 = self.UnetDoubleConv(256,128)\n",
    "        self.up4 = self.UnetDoubleConv(512,256)\n",
    "        self.up5 = self.UnetDoubleConv(1024,512)\n",
    "        \n",
    "        self.up2_1 = self.UnetDoubleConv(64,64)\n",
    "        self.up2_2 = self.UnetDoubleConv(64,64)\n",
    "        self.upConvT2_1 = self.UnetUpConv(64,64)\n",
    "        self.upConvT2_2 = self.UnetUpConv(64,64)\n",
    "\n",
    "        \n",
    "#         self.upConvT1 = nn.ConvTranspose2d(64,)\n",
    "        # self.upConvT2 = nn.ConvTranspose2d(128,64,2,2)\n",
    "        # self.upConvT3 = nn.ConvTranspose2d(256,128,2,2)\n",
    "        # self.upConvT4 = nn.ConvTranspose2d(512,256,2,2)\n",
    "        # self.upConvT5 = nn.ConvTranspose2d(1024,512,2,2)\n",
    "        \n",
    "        self.upConvT2 = self.UnetUpConv(128,64)\n",
    "        self.upConvT3 = self.UnetUpConv(256,128)\n",
    "        self.upConvT4 = self.UnetUpConv(512,256)\n",
    "        self.upConvT5 = self.UnetUpConv(1024,512)\n",
    "\n",
    "        self.softmax = torch.nn.Softmax(dim=1)\n",
    "\n",
    "        self.chut = nn.Conv2d(82,82,1,padding='same')\n",
    "\n",
    "        \n",
    "    def UnetDoubleConv(self,in_channels,out_channels):\n",
    "        return nn.Sequential(\n",
    "            nn.Conv2d(in_channels,out_channels,3,padding='same'),\n",
    "            nn.BatchNorm2d(out_channels),\n",
    "            nn.ReLU(inplace=True),\n",
    "            nn.Conv2d(out_channels,out_channels,3, padding='same'),\n",
    "            nn.BatchNorm2d(out_channels),\n",
    "            nn.ReLU(inplace=True),\n",
    "        )\n",
    "    \n",
    "    def UnetUpConv(self,in_channels,out_channels):\n",
    "        return nn.Sequential(\n",
    "            nn.ConvTranspose2d(in_channels,out_channels,2,2),\n",
    "            nn.BatchNorm2d(out_channels),\n",
    "            nn.ReLU(inplace=True)\n",
    "        )\n",
    "            \n",
    "    \n",
    "    def forward(self,x):\n",
    "        # x = x.permute(0, 3, 1, 2)\n",
    "        convOut1 = self.down1(x)\n",
    "        maxPool1 = nn.MaxPool2d(2)(convOut1)\n",
    "        convOut2 = self.down2(maxPool1)\n",
    "        maxPool2 = nn.MaxPool2d(2)(convOut2)\n",
    "        convOut3 = self.down3(maxPool2)\n",
    "        # maxPool3 = nn.MaxPool2d(2)(convOut3)\n",
    "        # convOut4 = self.down4(maxPool3)\n",
    "        # maxPool4 = nn.MaxPool2d(2)(convOut4)\n",
    "        # convOut5 = self.down5(maxPool4)\n",
    "#         maxPool5 = nn.MaxPool2d(2)(convOut5)\n",
    "        \n",
    "        \n",
    "        # upPool4 = self.upConvT4(convOut4)\n",
    "        # upPool4Cat = torch.cat([upPool4,convOut3],dim=1)\n",
    "        # incConvOut3 = self.up4(upPool4Cat)\n",
    "        # upPool3 = self.upConvT3(incConvOut3)\n",
    "        upPool3 = self.upConvT3(convOut3)\n",
    "        upPool3Cat = torch.cat([upPool3,convOut2],dim=1)\n",
    "        incConvOut2 = self.up3(upPool3Cat)\n",
    "        upPool2 = self.upConvT2(incConvOut2)\n",
    "        upPool2Cat = torch.cat([upPool2,convOut1],dim=1)\n",
    "        incConvOut1 = self.up2(upPool2Cat)\n",
    "        \n",
    "        upPool2_1 = self.upConvT2_1(incConvOut1)\n",
    "        incConvOut1_1 = self.up2_1(upPool2_1)\n",
    "        upPool2_2 = self.upConvT2_1(incConvOut1_1)\n",
    "        incConvOut1_2 = self.up2_2(upPool2_2)\n",
    "        \n",
    "        out1 = self.up1(incConvOut1_2)\n",
    "        out = self.chut(out1)\n",
    "        # out = self.softmax(out)\n",
    "        # out = out.permute(0,3,1,2)\n",
    "        \n",
    "        # upPool3 = self.upConvT3(incConvOut3)\n",
    "        # incConvOut2 = self.up2(upPool3)\n",
    "        \n",
    "        return(out)\n",
    "        "
   ]
  },
  {
   "cell_type": "code",
   "execution_count": 11,
   "id": "a5464f77",
   "metadata": {},
   "outputs": [],
   "source": [
    "class Dataset(torch.utils.data.Dataset):\n",
    "    def __init__(self, rgb_files,label_files):\n",
    "        super().__init__()\n",
    "        self.image_names = rgb_files\n",
    "        self.label_names = label_files\n",
    "\n",
    "    def __len__(self):\n",
    "        return len(self.image_names)\n",
    "\n",
    "    def __getitem__(self, idx):\n",
    "        rgb = np.array(Image.open(self.image_names[idx]))\n",
    "        rgb = rgb[::4,::4]\n",
    "        img = (\n",
    "          torch.tensor(rgb / 255.0, dtype=torch.float32)\n",
    "          .permute(2, 0, 1)\n",
    "          .contiguous()\n",
    "        )\n",
    "        if(not(self.label_names is None)):\n",
    "            label = np.array(Image.open(self.label_names[idx]))\n",
    "            label = label[::1,::1]\n",
    "            lbl = torch.tensor(label, dtype=torch.int64).contiguous()\n",
    "        else:\n",
    "            lbl = None\n",
    "        return {\"image\": img, \"label\": lbl}"
   ]
  },
  {
   "cell_type": "markdown",
   "id": "0cd1fb26",
   "metadata": {},
   "source": [
    "## Training"
   ]
  },
  {
   "cell_type": "code",
   "execution_count": 10,
   "id": "6de48361",
   "metadata": {},
   "outputs": [
    {
     "name": "stderr",
     "output_type": "stream",
     "text": [
      "/opt/conda/lib/python3.9/site-packages/torch/nn/functional.py:718: UserWarning: Named tensors and all their associated APIs are an experimental feature and subject to change. Please do not use them for anything important until they are released as stable. (Triggered internally at  /pytorch/c10/core/TensorImpl.h:1156.)\n",
      "  return torch.max_pool2d(input, kernel_size, stride, padding, dilation, ceil_mode)\n"
     ]
    },
    {
     "name": "stdout",
     "output_type": "stream",
     "text": [
      "----------------------------------------------------------------\n",
      "        Layer (type)               Output Shape         Param #\n",
      "================================================================\n",
      "            Conv2d-1         [-1, 64, 180, 320]           1,792\n",
      "       BatchNorm2d-2         [-1, 64, 180, 320]             128\n",
      "              ReLU-3         [-1, 64, 180, 320]               0\n",
      "            Conv2d-4         [-1, 64, 180, 320]          36,928\n",
      "       BatchNorm2d-5         [-1, 64, 180, 320]             128\n",
      "              ReLU-6         [-1, 64, 180, 320]               0\n",
      "            Conv2d-7         [-1, 128, 90, 160]          73,856\n",
      "       BatchNorm2d-8         [-1, 128, 90, 160]             256\n",
      "              ReLU-9         [-1, 128, 90, 160]               0\n",
      "           Conv2d-10         [-1, 128, 90, 160]         147,584\n",
      "      BatchNorm2d-11         [-1, 128, 90, 160]             256\n",
      "             ReLU-12         [-1, 128, 90, 160]               0\n",
      "           Conv2d-13          [-1, 256, 45, 80]         295,168\n",
      "      BatchNorm2d-14          [-1, 256, 45, 80]             512\n",
      "             ReLU-15          [-1, 256, 45, 80]               0\n",
      "           Conv2d-16          [-1, 256, 45, 80]         590,080\n",
      "      BatchNorm2d-17          [-1, 256, 45, 80]             512\n",
      "             ReLU-18          [-1, 256, 45, 80]               0\n",
      "  ConvTranspose2d-19         [-1, 128, 90, 160]         131,200\n",
      "      BatchNorm2d-20         [-1, 128, 90, 160]             256\n",
      "             ReLU-21         [-1, 128, 90, 160]               0\n",
      "           Conv2d-22         [-1, 128, 90, 160]         295,040\n",
      "      BatchNorm2d-23         [-1, 128, 90, 160]             256\n",
      "             ReLU-24         [-1, 128, 90, 160]               0\n",
      "           Conv2d-25         [-1, 128, 90, 160]         147,584\n",
      "      BatchNorm2d-26         [-1, 128, 90, 160]             256\n",
      "             ReLU-27         [-1, 128, 90, 160]               0\n",
      "  ConvTranspose2d-28         [-1, 64, 180, 320]          32,832\n",
      "      BatchNorm2d-29         [-1, 64, 180, 320]             128\n",
      "             ReLU-30         [-1, 64, 180, 320]               0\n",
      "           Conv2d-31         [-1, 64, 180, 320]          73,792\n",
      "      BatchNorm2d-32         [-1, 64, 180, 320]             128\n",
      "             ReLU-33         [-1, 64, 180, 320]               0\n",
      "           Conv2d-34         [-1, 64, 180, 320]          36,928\n",
      "      BatchNorm2d-35         [-1, 64, 180, 320]             128\n",
      "             ReLU-36         [-1, 64, 180, 320]               0\n",
      "  ConvTranspose2d-37         [-1, 64, 360, 640]          16,448\n",
      "      BatchNorm2d-38         [-1, 64, 360, 640]             128\n",
      "             ReLU-39         [-1, 64, 360, 640]               0\n",
      "           Conv2d-40         [-1, 64, 360, 640]          36,928\n",
      "      BatchNorm2d-41         [-1, 64, 360, 640]             128\n",
      "             ReLU-42         [-1, 64, 360, 640]               0\n",
      "           Conv2d-43         [-1, 64, 360, 640]          36,928\n",
      "      BatchNorm2d-44         [-1, 64, 360, 640]             128\n",
      "             ReLU-45         [-1, 64, 360, 640]               0\n",
      "  ConvTranspose2d-46        [-1, 64, 720, 1280]          16,448\n",
      "      BatchNorm2d-47        [-1, 64, 720, 1280]             128\n",
      "             ReLU-48        [-1, 64, 720, 1280]               0\n",
      "           Conv2d-49        [-1, 64, 720, 1280]          36,928\n",
      "      BatchNorm2d-50        [-1, 64, 720, 1280]             128\n",
      "             ReLU-51        [-1, 64, 720, 1280]               0\n",
      "           Conv2d-52        [-1, 64, 720, 1280]          36,928\n",
      "      BatchNorm2d-53        [-1, 64, 720, 1280]             128\n",
      "             ReLU-54        [-1, 64, 720, 1280]               0\n",
      "           Conv2d-55        [-1, 82, 720, 1280]          47,314\n",
      "      BatchNorm2d-56        [-1, 82, 720, 1280]             164\n",
      "             ReLU-57        [-1, 82, 720, 1280]               0\n",
      "           Conv2d-58        [-1, 82, 720, 1280]          60,598\n",
      "      BatchNorm2d-59        [-1, 82, 720, 1280]             164\n",
      "             ReLU-60        [-1, 82, 720, 1280]               0\n",
      "           Conv2d-61        [-1, 82, 720, 1280]           6,806\n",
      "================================================================\n",
      "Total params: 2,162,150\n",
      "Trainable params: 2,162,150\n",
      "Non-trainable params: 0\n",
      "----------------------------------------------------------------\n",
      "Input size (MB): 0.66\n",
      "Forward/backward pass size (MB): 9773.44\n",
      "Params size (MB): 8.25\n",
      "Estimated Total Size (MB): 9782.34\n",
      "----------------------------------------------------------------\n"
     ]
    }
   ],
   "source": [
    "multi_inputdevice = torch.device(\"cuda\" if torch.cuda.is_available() else \"cpu\")\n",
    "model = Unet().to(multi_inputdevice)\n",
    "summary(model,(3,180,320))\n",
    "torch.cuda.empty_cache()"
   ]
  },
  {
   "cell_type": "code",
   "execution_count": 12,
   "id": "5a0c0c6b",
   "metadata": {},
   "outputs": [],
   "source": [
    "rgb_files, depth_files, label_files, meta_files = get_split_files(training_data_dir,split_dir,'train')\n",
    "rgb_files_val, depth_files_val, label_files_val, meta_files_val = get_split_files(training_data_dir,split_dir,'val')"
   ]
  },
  {
   "cell_type": "code",
   "execution_count": 13,
   "id": "ccab74a4",
   "metadata": {},
   "outputs": [],
   "source": [
    "batch_size = 1\n",
    "dataset_train = Dataset(rgb_files,label_files)\n",
    "trainloader = DataLoader(dataset_train, batch_size=batch_size, shuffle=True,num_workers=2)\n",
    "dataset_val = Dataset(rgb_files_val,label_files_val)\n",
    "valloader = DataLoader(dataset_val, batch_size=batch_size, shuffle=True,num_workers=2)"
   ]
  },
  {
   "cell_type": "code",
   "execution_count": null,
   "id": "a313c53a",
   "metadata": {},
   "outputs": [],
   "source": [
    "torch.cuda.empty_cache()\n",
    "device = torch.device('cuda' if torch.cuda.is_available() else 'cpu')\n",
    "model = Unet()\n",
    "model = model.to(device=device)\n"
   ]
  },
  {
   "cell_type": "code",
   "execution_count": 15,
   "id": "7fcb2072",
   "metadata": {},
   "outputs": [
    {
     "name": "stderr",
     "output_type": "stream",
     "text": [
      "Epoch 0: 100%|██████████| 3964/3964 [19:32<00:00,  3.38batch/s, loss=0.00643]\n"
     ]
    },
    {
     "name": "stdout",
     "output_type": "stream",
     "text": [
      " Validation Loss: 5.134216004635318e-05\n",
      "Validation Loss Decreased(inf--->0.012117) \t Saving The Model\n"
     ]
    },
    {
     "name": "stderr",
     "output_type": "stream",
     "text": [
      "Epoch 1: 100%|██████████| 3964/3964 [19:39<00:00,  3.36batch/s, loss=0.0117] \n"
     ]
    },
    {
     "name": "stdout",
     "output_type": "stream",
     "text": [
      " Validation Loss: 0.008113059452024557\n"
     ]
    },
    {
     "name": "stderr",
     "output_type": "stream",
     "text": [
      "Epoch 2: 100%|██████████| 3964/3964 [19:31<00:00,  3.38batch/s, loss=0.00785]\n"
     ]
    },
    {
     "name": "stdout",
     "output_type": "stream",
     "text": [
      " Validation Loss: 0.0003912459932646509\n"
     ]
    },
    {
     "name": "stderr",
     "output_type": "stream",
     "text": [
      "Epoch 3: 100%|██████████| 3964/3964 [19:33<00:00,  3.38batch/s, loss=0.00221]\n"
     ]
    },
    {
     "name": "stdout",
     "output_type": "stream",
     "text": [
      " Validation Loss: 0.0008217451178421408\n"
     ]
    },
    {
     "name": "stderr",
     "output_type": "stream",
     "text": [
      "Epoch 4: 100%|██████████| 3964/3964 [19:33<00:00,  3.38batch/s, loss=0.00135] \n"
     ]
    },
    {
     "name": "stdout",
     "output_type": "stream",
     "text": [
      " Validation Loss: 0.00013185709999021837\n"
     ]
    },
    {
     "name": "stderr",
     "output_type": "stream",
     "text": [
      "Epoch 5: 100%|██████████| 3964/3964 [19:32<00:00,  3.38batch/s, loss=0.00352] \n"
     ]
    },
    {
     "name": "stdout",
     "output_type": "stream",
     "text": [
      " Validation Loss: 0.005919886342549728\n"
     ]
    },
    {
     "name": "stderr",
     "output_type": "stream",
     "text": [
      "Epoch 6: 100%|██████████| 3964/3964 [19:33<00:00,  3.38batch/s, loss=0.00145] \n"
     ]
    },
    {
     "name": "stdout",
     "output_type": "stream",
     "text": [
      " Validation Loss: 0.001246485038328979\n"
     ]
    },
    {
     "name": "stderr",
     "output_type": "stream",
     "text": [
      "Epoch 7: 100%|██████████| 3964/3964 [19:33<00:00,  3.38batch/s, loss=0.0047]  \n"
     ]
    },
    {
     "name": "stdout",
     "output_type": "stream",
     "text": [
      " Validation Loss: 0.00010048040046782817\n"
     ]
    },
    {
     "name": "stderr",
     "output_type": "stream",
     "text": [
      "Epoch 8: 100%|██████████| 3964/3964 [19:35<00:00,  3.37batch/s, loss=0.00301] \n"
     ]
    },
    {
     "name": "stdout",
     "output_type": "stream",
     "text": [
      " Validation Loss: 0.00029557220385236253\n"
     ]
    },
    {
     "name": "stderr",
     "output_type": "stream",
     "text": [
      "Epoch 9: 100%|██████████| 3964/3964 [19:34<00:00,  3.38batch/s, loss=0.00183] \n"
     ]
    },
    {
     "name": "stdout",
     "output_type": "stream",
     "text": [
      " Validation Loss: 0.00020193097071122314\n"
     ]
    }
   ],
   "source": [
    "import datetime\n",
    "\n",
    "\n",
    "criterion = torch.nn.CrossEntropyLoss()\n",
    "optimizer = torch.optim.Adam(model.parameters(),lr=0.004)\n",
    "\n",
    "epochs= 10\n",
    "\n",
    "min_valid_loss = np.inf\n",
    "\n",
    "\n",
    "for epoch in range(epochs):  # loop over the dataset multiple times\n",
    "\n",
    "    running_loss = 0.0\n",
    "    model.train()\n",
    "    with tqdm(trainloader, unit=\"batch\") as tepoch:\n",
    "        for data in tepoch:\n",
    "            inputs, labels = data['image'],data[\"label\"]\n",
    "            tepoch.set_description(f\"Epoch {epoch}\")\n",
    "            # trainset, valset = torch.utils.data.random_split(dataloader, [950,50])\n",
    "            # get the inputs; data is a list of [inputs, labels]\n",
    "            # inputs, labels = data\n",
    "            inputs, labels = inputs.to(device),labels.to(device)\n",
    "            # labels = torch.unsqueeze(torch.div(labels,255),1)\n",
    "            # labels = labels.type(torch.LongTensor)\n",
    "\n",
    "            # print('a')\n",
    "            # zero the parameter gradients\n",
    "            optimizer.zero_grad()\n",
    "\n",
    "            # forward + backward + optimize\n",
    "            outputs = model(inputs)\n",
    "            loss = criterion(outputs, labels)\n",
    "            loss.backward()\n",
    "            optimizer.step()\n",
    "            # print('b')\n",
    "\n",
    "            # print statistics\n",
    "            tepoch.set_postfix(loss=loss.item())\n",
    "            running_loss += loss.item()\n",
    "            # if i % 100 == 0:    # print every 2000 mini-batches\n",
    "            #     print(f'[{epoch + 1}, {i + 1:5d}] loss: {running_loss / 2000:.3f}')\n",
    "            #     running_loss = 0.0\n",
    "    valid_loss = 0.0\n",
    "    model.eval()     # Optional when not using Model Specific layer\n",
    "    for data_val in valloader:\n",
    "        # if torch.cuda.is_available():\n",
    "        data, labels = data_val['image'],data_val[\"label\"]\n",
    "        data, labels = data.to(device), labels.to(device)\n",
    "        \n",
    "        target = model(data)\n",
    "        loss = criterion(target,labels)\n",
    "        valid_loss = loss.item() * data.size(0)\n",
    "\n",
    "    print(f' Validation Loss: {valid_loss / len(valloader)}')\n",
    "    if min_valid_loss > valid_loss:\n",
    "        print(f'Validation Loss Decreased({min_valid_loss:.6f}--->{valid_loss:.6f}) \\t Saving The Model')\n",
    "        min_valid_loss = valid_loss\n",
    "        # Saving State Dict\n",
    "        # torch.save(model.state_dict(), '/content/drive/Othercomputers/My PC/UCSD Acads/Quarter 1/CSE 291/HW3/saved_model.pth')\n",
    "        torch.save(model.state_dict(), f'./weights/UNet2/saved_model_{datetime.datetime.now().strftime(\"%Y_%m_%dT%H_%M_%S\")}_valloss_{valid_loss}.pth')\n",
    "\n",
    "    # model.eval()\n",
    "    # with tqdm(valloader, unit=\"batch\") as tepoch:\n",
    "    #   for inputs, labels in tepoch:\n",
    "    #     tepoch.set_description(f\"Epoch {epoch}\")\n"
   ]
  },
  {
   "cell_type": "code",
   "execution_count": 24,
   "id": "1a8a64a9",
   "metadata": {},
   "outputs": [],
   "source": [
    "torch.save(model.state_dict(), f'./weights/UNet2/UNet2_saved_model_{datetime.datetime.now().strftime(\"%Y_%m_%dT%H_%M_%S\")}_final.pth')\n"
   ]
  },
  {
   "cell_type": "markdown",
   "id": "412d36e6",
   "metadata": {},
   "source": [
    "## Checking Segmentation"
   ]
  },
  {
   "cell_type": "code",
   "execution_count": 12,
   "id": "d5d213e3",
   "metadata": {},
   "outputs": [
    {
     "data": {
      "text/plain": [
       "Unet(\n",
       "  (down1): Sequential(\n",
       "    (0): Conv2d(3, 64, kernel_size=(3, 3), stride=(1, 1), padding=same)\n",
       "    (1): BatchNorm2d(64, eps=1e-05, momentum=0.1, affine=True, track_running_stats=True)\n",
       "    (2): ReLU(inplace=True)\n",
       "    (3): Conv2d(64, 64, kernel_size=(3, 3), stride=(1, 1), padding=same)\n",
       "    (4): BatchNorm2d(64, eps=1e-05, momentum=0.1, affine=True, track_running_stats=True)\n",
       "    (5): ReLU(inplace=True)\n",
       "  )\n",
       "  (down2): Sequential(\n",
       "    (0): Conv2d(64, 128, kernel_size=(3, 3), stride=(1, 1), padding=same)\n",
       "    (1): BatchNorm2d(128, eps=1e-05, momentum=0.1, affine=True, track_running_stats=True)\n",
       "    (2): ReLU(inplace=True)\n",
       "    (3): Conv2d(128, 128, kernel_size=(3, 3), stride=(1, 1), padding=same)\n",
       "    (4): BatchNorm2d(128, eps=1e-05, momentum=0.1, affine=True, track_running_stats=True)\n",
       "    (5): ReLU(inplace=True)\n",
       "  )\n",
       "  (down3): Sequential(\n",
       "    (0): Conv2d(128, 256, kernel_size=(3, 3), stride=(1, 1), padding=same)\n",
       "    (1): BatchNorm2d(256, eps=1e-05, momentum=0.1, affine=True, track_running_stats=True)\n",
       "    (2): ReLU(inplace=True)\n",
       "    (3): Conv2d(256, 256, kernel_size=(3, 3), stride=(1, 1), padding=same)\n",
       "    (4): BatchNorm2d(256, eps=1e-05, momentum=0.1, affine=True, track_running_stats=True)\n",
       "    (5): ReLU(inplace=True)\n",
       "  )\n",
       "  (down4): Sequential(\n",
       "    (0): Conv2d(256, 512, kernel_size=(3, 3), stride=(1, 1), padding=same)\n",
       "    (1): BatchNorm2d(512, eps=1e-05, momentum=0.1, affine=True, track_running_stats=True)\n",
       "    (2): ReLU(inplace=True)\n",
       "    (3): Conv2d(512, 512, kernel_size=(3, 3), stride=(1, 1), padding=same)\n",
       "    (4): BatchNorm2d(512, eps=1e-05, momentum=0.1, affine=True, track_running_stats=True)\n",
       "    (5): ReLU(inplace=True)\n",
       "  )\n",
       "  (down5): Sequential(\n",
       "    (0): Conv2d(512, 1024, kernel_size=(3, 3), stride=(1, 1), padding=same)\n",
       "    (1): BatchNorm2d(1024, eps=1e-05, momentum=0.1, affine=True, track_running_stats=True)\n",
       "    (2): ReLU(inplace=True)\n",
       "    (3): Conv2d(1024, 1024, kernel_size=(3, 3), stride=(1, 1), padding=same)\n",
       "    (4): BatchNorm2d(1024, eps=1e-05, momentum=0.1, affine=True, track_running_stats=True)\n",
       "    (5): ReLU(inplace=True)\n",
       "  )\n",
       "  (up1): Sequential(\n",
       "    (0): Conv2d(64, 82, kernel_size=(3, 3), stride=(1, 1), padding=same)\n",
       "    (1): BatchNorm2d(82, eps=1e-05, momentum=0.1, affine=True, track_running_stats=True)\n",
       "    (2): ReLU(inplace=True)\n",
       "    (3): Conv2d(82, 82, kernel_size=(3, 3), stride=(1, 1), padding=same)\n",
       "    (4): BatchNorm2d(82, eps=1e-05, momentum=0.1, affine=True, track_running_stats=True)\n",
       "    (5): ReLU(inplace=True)\n",
       "  )\n",
       "  (up2): Sequential(\n",
       "    (0): Conv2d(128, 64, kernel_size=(3, 3), stride=(1, 1), padding=same)\n",
       "    (1): BatchNorm2d(64, eps=1e-05, momentum=0.1, affine=True, track_running_stats=True)\n",
       "    (2): ReLU(inplace=True)\n",
       "    (3): Conv2d(64, 64, kernel_size=(3, 3), stride=(1, 1), padding=same)\n",
       "    (4): BatchNorm2d(64, eps=1e-05, momentum=0.1, affine=True, track_running_stats=True)\n",
       "    (5): ReLU(inplace=True)\n",
       "  )\n",
       "  (up3): Sequential(\n",
       "    (0): Conv2d(256, 128, kernel_size=(3, 3), stride=(1, 1), padding=same)\n",
       "    (1): BatchNorm2d(128, eps=1e-05, momentum=0.1, affine=True, track_running_stats=True)\n",
       "    (2): ReLU(inplace=True)\n",
       "    (3): Conv2d(128, 128, kernel_size=(3, 3), stride=(1, 1), padding=same)\n",
       "    (4): BatchNorm2d(128, eps=1e-05, momentum=0.1, affine=True, track_running_stats=True)\n",
       "    (5): ReLU(inplace=True)\n",
       "  )\n",
       "  (up4): Sequential(\n",
       "    (0): Conv2d(512, 256, kernel_size=(3, 3), stride=(1, 1), padding=same)\n",
       "    (1): BatchNorm2d(256, eps=1e-05, momentum=0.1, affine=True, track_running_stats=True)\n",
       "    (2): ReLU(inplace=True)\n",
       "    (3): Conv2d(256, 256, kernel_size=(3, 3), stride=(1, 1), padding=same)\n",
       "    (4): BatchNorm2d(256, eps=1e-05, momentum=0.1, affine=True, track_running_stats=True)\n",
       "    (5): ReLU(inplace=True)\n",
       "  )\n",
       "  (up5): Sequential(\n",
       "    (0): Conv2d(1024, 512, kernel_size=(3, 3), stride=(1, 1), padding=same)\n",
       "    (1): BatchNorm2d(512, eps=1e-05, momentum=0.1, affine=True, track_running_stats=True)\n",
       "    (2): ReLU(inplace=True)\n",
       "    (3): Conv2d(512, 512, kernel_size=(3, 3), stride=(1, 1), padding=same)\n",
       "    (4): BatchNorm2d(512, eps=1e-05, momentum=0.1, affine=True, track_running_stats=True)\n",
       "    (5): ReLU(inplace=True)\n",
       "  )\n",
       "  (up2_1): Sequential(\n",
       "    (0): Conv2d(64, 64, kernel_size=(3, 3), stride=(1, 1), padding=same)\n",
       "    (1): BatchNorm2d(64, eps=1e-05, momentum=0.1, affine=True, track_running_stats=True)\n",
       "    (2): ReLU(inplace=True)\n",
       "    (3): Conv2d(64, 64, kernel_size=(3, 3), stride=(1, 1), padding=same)\n",
       "    (4): BatchNorm2d(64, eps=1e-05, momentum=0.1, affine=True, track_running_stats=True)\n",
       "    (5): ReLU(inplace=True)\n",
       "  )\n",
       "  (up2_2): Sequential(\n",
       "    (0): Conv2d(64, 64, kernel_size=(3, 3), stride=(1, 1), padding=same)\n",
       "    (1): BatchNorm2d(64, eps=1e-05, momentum=0.1, affine=True, track_running_stats=True)\n",
       "    (2): ReLU(inplace=True)\n",
       "    (3): Conv2d(64, 64, kernel_size=(3, 3), stride=(1, 1), padding=same)\n",
       "    (4): BatchNorm2d(64, eps=1e-05, momentum=0.1, affine=True, track_running_stats=True)\n",
       "    (5): ReLU(inplace=True)\n",
       "  )\n",
       "  (upConvT2_1): Sequential(\n",
       "    (0): ConvTranspose2d(64, 64, kernel_size=(2, 2), stride=(2, 2))\n",
       "    (1): BatchNorm2d(64, eps=1e-05, momentum=0.1, affine=True, track_running_stats=True)\n",
       "    (2): ReLU(inplace=True)\n",
       "  )\n",
       "  (upConvT2_2): Sequential(\n",
       "    (0): ConvTranspose2d(64, 64, kernel_size=(2, 2), stride=(2, 2))\n",
       "    (1): BatchNorm2d(64, eps=1e-05, momentum=0.1, affine=True, track_running_stats=True)\n",
       "    (2): ReLU(inplace=True)\n",
       "  )\n",
       "  (upConvT2): Sequential(\n",
       "    (0): ConvTranspose2d(128, 64, kernel_size=(2, 2), stride=(2, 2))\n",
       "    (1): BatchNorm2d(64, eps=1e-05, momentum=0.1, affine=True, track_running_stats=True)\n",
       "    (2): ReLU(inplace=True)\n",
       "  )\n",
       "  (upConvT3): Sequential(\n",
       "    (0): ConvTranspose2d(256, 128, kernel_size=(2, 2), stride=(2, 2))\n",
       "    (1): BatchNorm2d(128, eps=1e-05, momentum=0.1, affine=True, track_running_stats=True)\n",
       "    (2): ReLU(inplace=True)\n",
       "  )\n",
       "  (upConvT4): Sequential(\n",
       "    (0): ConvTranspose2d(512, 256, kernel_size=(2, 2), stride=(2, 2))\n",
       "    (1): BatchNorm2d(256, eps=1e-05, momentum=0.1, affine=True, track_running_stats=True)\n",
       "    (2): ReLU(inplace=True)\n",
       "  )\n",
       "  (upConvT5): Sequential(\n",
       "    (0): ConvTranspose2d(1024, 512, kernel_size=(2, 2), stride=(2, 2))\n",
       "    (1): BatchNorm2d(512, eps=1e-05, momentum=0.1, affine=True, track_running_stats=True)\n",
       "    (2): ReLU(inplace=True)\n",
       "  )\n",
       "  (softmax): Softmax(dim=1)\n",
       "  (chut): Conv2d(82, 82, kernel_size=(1, 1), stride=(1, 1), padding=same)\n",
       ")"
      ]
     },
     "execution_count": 12,
     "metadata": {},
     "output_type": "execute_result"
    }
   ],
   "source": [
    "device = torch.device('cuda' if torch.cuda.is_available() else 'cpu')\n",
    "\n",
    "\n",
    "model_loaded = Unet()\n",
    "pth_name = \"UNet2_saved_model_2022_12_08T00_53_08_final.pth\"\n",
    "model_loaded.load_state_dict(torch.load(f'./weights/UNet2/{pth_name}',map_location=device))\n",
    "\n",
    "model_loaded.to(device)"
   ]
  },
  {
   "cell_type": "code",
   "execution_count": 13,
   "id": "5ae58f14",
   "metadata": {},
   "outputs": [],
   "source": [
    "with open(\"./testing_data_pose_filtered/testing_data/test.txt\",'r') as f:\n",
    "    prefix = [os.path.join(testing_data_dir, line.strip()) for line in f if line.strip()]\n",
    "    rgb_test_files = [p + \"_color_kinect.png\" for p in prefix]\n",
    "    depth_test_files = [p + \"_depth_kinect.png\" for p in prefix]\n",
    "    meta_test_files= [p + \"_meta.pkl\" for p in prefix]\n"
   ]
  },
  {
   "cell_type": "code",
   "execution_count": 14,
   "id": "ab2896a3",
   "metadata": {},
   "outputs": [],
   "source": [
    "dataset_test = Dataset(rgb_test_files,None)"
   ]
  },
  {
   "cell_type": "code",
   "execution_count": 15,
   "id": "bd121066",
   "metadata": {},
   "outputs": [
    {
     "name": "stderr",
     "output_type": "stream",
     "text": [
      "/opt/conda/lib/python3.9/site-packages/torch/nn/functional.py:718: UserWarning: Named tensors and all their associated APIs are an experimental feature and subject to change. Please do not use them for anything important until they are released as stable. (Triggered internally at  /pytorch/c10/core/TensorImpl.h:1156.)\n",
      "  return torch.max_pool2d(input, kernel_size, stride, padding, dilation, ceil_mode)\n"
     ]
    },
    {
     "data": {
      "text/plain": [
       "<matplotlib.image.AxesImage at 0x7fdc479edee0>"
      ]
     },
     "execution_count": 15,
     "metadata": {},
     "output_type": "execute_result"
    },
    {
     "data": {
      "image/png": "[encoded data removed]",
      "text/plain": [
       "<Figure size 2160x1440 with 2 Axes>"
      ]
     },
     "metadata": {
      "needs_background": "light"
     },
     "output_type": "display_data"
    }
   ],
   "source": [
    "import numpy as np\n",
    "import matplotlib.pyplot as plt\n",
    "\n",
    "rgb = dataset_test[0]['image']\n",
    "\n",
    "model_loaded.eval()\n",
    "pred_label = np.argmax(np.transpose(np.squeeze(model_loaded(torch.unsqueeze(rgb,0).to(device)).cpu().detach().numpy(),0),(1,2,0)),-1)\n",
    "# pred_label = \n",
    "# model.eval()\n",
    "# test_labels = np.argmin(np.transpose(model(torch.tensor(np.transpose(test_images,(0,3,1,2))).float().to(device)).detach().cpu().numpy(),(0,2,3,1)),axis=-1)*255\n",
    "\n",
    "plt.figure(figsize=(30, 20))\n",
    "plt.subplot(1, 2, 1)\n",
    "plt.imshow(np.transpose(rgb,(1,2,0)))\n",
    "# plt.subplot(1, 3, 2)\n",
    "# plt.imshow(COLOR_PALETTE[label])\n",
    "plt.subplot(1, 2, 2)\n",
    "plt.imshow(COLOR_PALETTE[pred_label])  # draw colorful segmentation"
   ]
  },
  {
   "cell_type": "markdown",
   "id": "651173b6",
   "metadata": {},
   "source": [
    "## Adding PointNet"
   ]
  },
  {
   "cell_type": "markdown",
   "id": "76b77776",
   "metadata": {},
   "source": [
    "## Getting PointCloud"
   ]
  },
  {
   "cell_type": "code",
   "execution_count": 17,
   "id": "e55ea3e5",
   "metadata": {},
   "outputs": [],
   "source": [
    "from matplotlib.cm import get_cmap\n",
    "NUM_OBJECTS = 79\n",
    "cmap = get_cmap('rainbow', NUM_OBJECTS)\n",
    "COLOR_PALETTE = np.array([cmap(i)[:3] for i in range(NUM_OBJECTS + 3)])\n",
    "COLOR_PALETTE = np.array(COLOR_PALETTE * 255, dtype=np.uint8)\n",
    "COLOR_PALETTE[-3] = [119, 135, 150]\n",
    "COLOR_PALETTE[-2] = [176, 194, 216]\n",
    "COLOR_PALETTE[-1] = [255, 255, 225]"
   ]
  },
  {
   "cell_type": "code",
   "execution_count": 18,
   "id": "468cf0ed",
   "metadata": {},
   "outputs": [],
   "source": [
    "rgb_files, depth_files, label_files, meta_files = get_split_files(training_data_dir,split_dir,'train')"
   ]
  },
  {
   "cell_type": "code",
   "execution_count": 19,
   "id": "2742047a",
   "metadata": {},
   "outputs": [
    {
     "data": {
      "text/plain": [
       "<matplotlib.image.AxesImage at 0x7f3114db2280>"
      ]
     },
     "execution_count": 19,
     "metadata": {},
     "output_type": "execute_result"
    },
    {
     "data": {
      "image/png": "[encoded data removed]",
      "text/plain": [
       "<Figure size 1080x720 with 3 Axes>"
      ]
     },
     "metadata": {
      "needs_background": "light"
     },
     "output_type": "display_data"
    }
   ],
   "source": [
    "rgb = np.array(Image.open(rgb_files[0])) / 255   # convert 0-255 to 0-1\n",
    "depth = np.array(Image.open(depth_files[0])) / 1000   # convert from mm to m\n",
    "label = np.array(Image.open(label_files[0]))\n",
    "plt.figure(figsize=(15, 10))\n",
    "plt.subplot(1, 3, 1)\n",
    "plt.imshow(rgb)\n",
    "plt.subplot(1, 3, 2)\n",
    "plt.imshow(depth)\n",
    "plt.subplot(1, 3, 3)\n",
    "plt.imshow(COLOR_PALETTE[label])  # draw colorful segmentation"
   ]
  },
  {
   "cell_type": "code",
   "execution_count": 20,
   "id": "af52123c",
   "metadata": {},
   "outputs": [],
   "source": [
    "depth = np.array(Image.open(depth_files[0])) / 1000   # convert from mm to m\n",
    "meta = load_pickle(meta_files[0])\n",
    "rgb = np.array(Image.open(rgb_files[0])) / 255   # convert 0-255 to 0-1\n",
    "pc_image = point_cloud_image_in_c(meta,depth)\n",
    "extrinsic = meta['extrinsic']\n",
    "extr_inv = np.linalg.inv(extrinsic)\n",
    "for objind in meta['object_ids']:\n",
    "    seg_pcd = pc_image[label==objind]\n",
    "    seg_pcd_world = seg_pcd@ extr_inv[:3, :3].T + extr_inv[:3, 3]\n",
    "\n",
    "    world_pose = meta['poses_world'][objind]\n",
    "    pose_inv = np.linalg.inv(world_pose)\n",
    "    seg_pcd_base = seg_pcd_world@ pose_inv[:3, :3].T + pose_inv[:3, 3]\n",
    "    \n",
    "    \n",
    "#     display_3d(seg_pcd_base)\n"
   ]
  },
  {
   "cell_type": "code",
   "execution_count": 21,
   "id": "261da549",
   "metadata": {},
   "outputs": [
    {
     "data": {
      "text/plain": [
       "array([[False, False, False, ..., False, False, False],\n",
       "       [False, False, False, ..., False, False, False],\n",
       "       [False, False, False, ..., False, False, False],\n",
       "       ...,\n",
       "       [False, False, False, ..., False, False, False],\n",
       "       [False, False, False, ..., False, False, False],\n",
       "       [False, False, False, ..., False, False, False]])"
      ]
     },
     "execution_count": 21,
     "metadata": {},
     "output_type": "execute_result"
    }
   ],
   "source": [
    "label==objind"
   ]
  },
  {
   "cell_type": "markdown",
   "id": "4a1ff0a2",
   "metadata": {},
   "source": [
    "## Image Features"
   ]
  },
  {
   "cell_type": "code",
   "execution_count": 43,
   "id": "b9dff32a",
   "metadata": {},
   "outputs": [],
   "source": [
    "from collections import defaultdict\n",
    "class PcdCropToPoseDataset(torch.utils.data.Dataset):\n",
    "    def __init__(self, rgb_files,label_files,depth_files,meta_files,ship = 1):\n",
    "        super().__init__()\n",
    "        self.image_names = rgb_files\n",
    "        self.label_names = label_files\n",
    "        self.depth_files = depth_files\n",
    "        self.meta_files = meta_files\n",
    "        self.skip = 1 \n",
    "        \n",
    "    def __len__(self):\n",
    "        return len(self.image_names)\n",
    "\n",
    "    def __getitem__(self, idx):\n",
    "        rgb = np.array(Image.open(self.image_names[idx]))\n",
    "#         img = (\n",
    "#           torch.tensor(rgb / 255.0, dtype=torch.float32)\n",
    "#           .permute(2, 0, 1)\n",
    "#           .contiguous()\n",
    "#         )\n",
    "        \n",
    "        label = np.array(Image.open(self.label_names[idx]))\n",
    "#         lbl = torch.tensor(label, dtype=torch.int64).contiguous()\n",
    "\n",
    "#         pcd_data = defaultdict(dict)\n",
    "        crop_imgs = []\n",
    "        crop_lbls = []\n",
    "        seg_pcd_worlds = []\n",
    "        world_poses = []\n",
    "        obj_inds = []\n",
    "        \n",
    "        meta = load_pickle(self.meta_files[idx])\n",
    "        pc_image = point_cloud_image_in_c(meta,depth)\n",
    "        extrinsic = meta['extrinsic']\n",
    "        extr_inv = np.linalg.inv(extrinsic)\n",
    "        for objind in meta['object_ids']:\n",
    "            rmin, rmax, cmin, cmax = bbox2(label==objind)\n",
    "            crop_rgb = rgb[rmin:(rmax+1 if (rmax-rmin)%2==1 else rmax),\n",
    "               cmin:(cmax+1 if (cmax-cmin)%2==1 else cmax)]\n",
    "            crop_img_t = (\n",
    "                torch.tensor(crop_rgb/ 255.0, dtype=torch.float32)\n",
    "                .permute(2, 0, 1)\n",
    "                .contiguous()\n",
    "            )\n",
    "            crop_lbl = label[rmin:(rmax+1 if (rmax-rmin)%2==1 else rmax),cmin:(cmax+1 if (cmax-cmin)%2==1 else cmax)]\n",
    "            crop_lbl_t = torch.tensor(crop_lbl, dtype=torch.int64).contiguous()\n",
    "            \n",
    "            seg_pcd = pc_image[label==objind]\n",
    "            seg_pcd_world = seg_pcd@ extr_inv[:3, :3].T + extr_inv[:3, 3] \n",
    "            seg_pcd_world_t = (\n",
    "                torch.tensor(seg_pcd_world,dtype=torch.float32)\n",
    "                .permute(1,0)\n",
    "                .contiguous()\n",
    "            )\n",
    "\n",
    "            world_pose = meta['poses_world'][objind]\n",
    "            world_pose_t = (\n",
    "                torch.tensor(world_pose, dtype=torch.float32)\n",
    "                .contiguous()\n",
    "            )\n",
    "            crop_imgs += [crop_img_t]\n",
    "            crop_lbls += [crop_lbl_t]\n",
    "            seg_pcd_worlds += [seg_pcd_world_t]\n",
    "            world_poses += [world_pose_t]\n",
    "            obj_inds += [objind]\n",
    "            \n",
    "        return {\"image\": crop_imgs, \n",
    "                \"label\": crop_lbls, \n",
    "                \"seg_pcd_world\":seg_pcd_worlds,\n",
    "               \"world_pose\":world_poses,\n",
    "               \"obj_inds\": obj_inds}"
   ]
  },
  {
   "cell_type": "code",
   "execution_count": 23,
   "id": "55a9f6c5",
   "metadata": {},
   "outputs": [],
   "source": [
    "import torch\n",
    "from torch.nn import Conv2d\n",
    "from torch import nn\n",
    "from torchsummary import summary\n",
    "from tqdm import tqdm\n",
    "from torch.utils.data import TensorDataset, DataLoader\n",
    "from torch.autograd import Variable\n",
    "import numpy as np\n",
    "import torch.nn.functional as F\n",
    "\n",
    "\n",
    "class FeatureGen(torch.nn.Module):\n",
    "    def __init__(self):\n",
    "        super(FeatureGen,self).__init__()\n",
    "        self.down1 = self.UnetDoubleConv(3,32)\n",
    "        self.down2 = self.UnetDoubleConv(32,64)\n",
    "        self.down3 = self.UnetDoubleConv(128,256)\n",
    "        self.down4 = self.UnetDoubleConv(256,512)\n",
    "        self.down5 = self.UnetDoubleConv(512,1024)\n",
    "        \n",
    "        self.up1 = self.UnetDoubleConv(32,32)\n",
    "        self.up2 = self.UnetDoubleConv(64,32)\n",
    "        self.up3 = self.UnetDoubleConv(256,128)\n",
    "        self.up4 = self.UnetDoubleConv(512,256)\n",
    "        self.up5 = self.UnetDoubleConv(1024,512)\n",
    "        \n",
    "        \n",
    "        self.upConvT2 = self.UnetUpConv(64,32)\n",
    "        self.upConvT3 = self.UnetUpConv(256,128)\n",
    "        self.upConvT4 = self.UnetUpConv(512,256)\n",
    "        self.upConvT5 = self.UnetUpConv(1024,512)\n",
    "\n",
    "        self.softmax = torch.nn.Softmax(dim=1)\n",
    "\n",
    "        self.chut = nn.Conv2d(32,32,1,padding='same')\n",
    "        \n",
    "        self.fc1 = nn.Linear(32, 32)\n",
    "        self.bn4 = nn.BatchNorm1d(32)\n",
    "        self.fc2 = nn.Linear(32, 32)\n",
    "\n",
    "\n",
    "        \n",
    "    def UnetDoubleConv(self,in_channels,out_channels):\n",
    "        return nn.Sequential(\n",
    "            nn.Conv2d(in_channels,out_channels,3,padding='same'),\n",
    "            nn.BatchNorm2d(out_channels),\n",
    "            nn.ReLU(inplace=True),\n",
    "            nn.Conv2d(out_channels,out_channels,3, padding='same'),\n",
    "            nn.BatchNorm2d(out_channels),\n",
    "            nn.ReLU(inplace=True),\n",
    "        )\n",
    "    \n",
    "    def UnetUpConv(self,in_channels,out_channels):\n",
    "        return nn.Sequential(\n",
    "            nn.ConvTranspose2d(in_channels,out_channels,2,2),\n",
    "            nn.BatchNorm2d(out_channels),\n",
    "            nn.ReLU(inplace=True)\n",
    "        )\n",
    "            \n",
    "    \n",
    "    def forward(self,x):\n",
    "        # x = x.permute(0, 3, 1, 2)\n",
    "        convOut1 = self.down1(x)\n",
    "        maxPool1 = nn.MaxPool2d(2)(convOut1)\n",
    "        convOut2 = self.down2(maxPool1)\n",
    "#         maxPool2 = nn.MaxPool2d(2)(convOut2)\n",
    "#         convOut3 = self.down3(maxPool2)\n",
    "\n",
    "#         upPool3 = self.upConvT3(convOut3)\n",
    "#         upPool3Cat = torch.cat([upPool3,convOut2],dim=1)\n",
    "#         incConvOut2 = self.up3(upPool3Cat)\n",
    "        upPool2 = self.upConvT2(convOut2)\n",
    "        upPool2Cat = torch.cat([upPool2,convOut1],dim=1)\n",
    "        incConvOut1 = self.up2(upPool2Cat)\n",
    "        \n",
    "        out1 = self.up1(incConvOut1)\n",
    "        out = self.chut(out1)\n",
    "#         out3 = F.relu(self.bn4(self.fc1(incConvOut1)))\n",
    "\n",
    "#         out = self.fc2(incConvOut1)\n",
    "        \n",
    "        # out = self.softmax(out)\n",
    "        # out = out.permute(0,3,1,2)\n",
    "        \n",
    "        # upPool3 = self.upConvT3(incConvOut3)\n",
    "        # incConvOut2 = self.up2(upPool3)\n",
    "        \n",
    "        return(out)"
   ]
  },
  {
   "cell_type": "code",
   "execution_count": 61,
   "id": "63f36cf9",
   "metadata": {},
   "outputs": [
    {
     "name": "stdout",
     "output_type": "stream",
     "text": [
      "torch.Size([1, 32, 4, 4])\n"
     ]
    }
   ],
   "source": [
    "multi_inputdevice = torch.device(\"cuda\" if torch.cuda.is_available() else \"cpu\")\n",
    "model = FeatureGen().to(multi_inputdevice)\n",
    "test = Variable(torch.rand(1,3,4,4)).to(multi_inputdevice)\n",
    "print(model(test).shape)\n",
    "# # summary(model,(3,180*4,320*4))\n"
   ]
  },
  {
   "cell_type": "markdown",
   "id": "08cb4fcc",
   "metadata": {},
   "source": [
    "## PointNet"
   ]
  },
  {
   "cell_type": "code",
   "execution_count": 174,
   "id": "14cf5900",
   "metadata": {},
   "outputs": [],
   "source": [
    "import torch\n",
    "import torch.nn as nn\n",
    "import torch.nn.parallel\n",
    "import torch.utils.data\n",
    "from torch.autograd import Variable\n",
    "import numpy as np\n",
    "import torch.nn.functional as F\n",
    "\n",
    "\n",
    "class STN3d(nn.Module):\n",
    "    def __init__(self,output_feats=128,global_feats=True):\n",
    "        super(STN3d, self).__init__()\n",
    "        self.conv1 = torch.nn.Conv1d(3, 64, 1)\n",
    "        self.conv2 = torch.nn.Conv1d(64, 128, 1)\n",
    "        self.conv3 = torch.nn.Conv1d(128, 1024, 1)\n",
    "        self.fc1 = nn.Linear(1024, 512)\n",
    "        self.fc2 = nn.Linear(512, 256)\n",
    "        self.fc3 = nn.Linear(256, output_feats)\n",
    "        self.relu = nn.ReLU()\n",
    "\n",
    "        self.bn1 = nn.BatchNorm1d(64)\n",
    "        self.bn2 = nn.BatchNorm1d(128)\n",
    "        self.bn3 = nn.BatchNorm1d(1024)\n",
    "        self.bn4 = nn.BatchNorm1d(512)\n",
    "        self.bn5 = nn.BatchNorm1d(256)\n",
    "        \n",
    "        self.global_feats = global_feats\n",
    "\n",
    "\n",
    "    def forward(self, x):\n",
    "        batchsize = x.size()[0]\n",
    "        x = F.relu(self.bn1(self.conv1(x)))\n",
    "        x = F.relu(self.bn2(self.conv2(x)))\n",
    "        x = F.relu(self.bn3(self.conv3(x)))\n",
    "        if(not self.global_feats):\n",
    "            return x\n",
    "        x = torch.max(x, 2, keepdim=True)[0]\n",
    "        x = x.view(-1, 1024)\n",
    "        x = F.relu((self.fc1(x)))\n",
    "        x = F.relu((self.fc2(x)))\n",
    "        x = self.fc3(x)\n",
    "        return x\n",
    "\n",
    "\n"
   ]
  },
  {
   "cell_type": "code",
   "execution_count": 176,
   "id": "b126b597",
   "metadata": {},
   "outputs": [],
   "source": [
    "# multi_inputdevice = torch.device(\"cuda\" if torch.cuda.is_available() else \"cpu\")\n",
    "# model = STN3d().to(multi_inputdevice)\n",
    "# summary(model,(3,1000))\n",
    "# torch.cuda.empty_cache()"
   ]
  },
  {
   "cell_type": "code",
   "execution_count": 178,
   "id": "e4ff5d31",
   "metadata": {},
   "outputs": [
    {
     "name": "stdout",
     "output_type": "stream",
     "text": [
      "stn torch.Size([1, 9])\n"
     ]
    }
   ],
   "source": [
    "sim_data = Variable(torch.rand(1,3,2500))\n",
    "trans = STN3d(9)\n",
    "out = trans(sim_data)\n",
    "print('stn', out.size())\n",
    "# print('loss', feature_transform_regularizer(out))\n"
   ]
  },
  {
   "cell_type": "markdown",
   "id": "59db9ef6",
   "metadata": {},
   "source": [
    "# Dense Fusion"
   ]
  },
  {
   "cell_type": "code",
   "execution_count": 227,
   "id": "d27b6375",
   "metadata": {},
   "outputs": [],
   "source": [
    "import torch\n",
    "import torch.nn as nn\n",
    "import torch.nn.parallel\n",
    "import torch.utils.data\n",
    "from torch.autograd import Variable\n",
    "import numpy as np\n",
    "import torch.nn.functional as F\n",
    "\n",
    "\n",
    "class DenseFusion(nn.Module):\n",
    "    def __init__(self):\n",
    "        super(DenseFusion, self).__init__()\n",
    "        self.stn = STN3d()\n",
    "        self.featureGen = FeatureGen()\n",
    "        self.down1 = self.UnetDoubleConv(160,200)\n",
    "        self.down2 = self.UnetDoubleConv(200,256)\n",
    "        self.down3 = self.UnetDoubleConv(256,512)\n",
    "        self.fc1 = nn.Linear(512, 128)\n",
    "        self.fc2 = nn.Linear(64, 9)\n",
    "\n",
    "    \n",
    "            \n",
    "    def UnetDoubleConv(self,in_channels,out_channels):\n",
    "        return nn.Sequential(\n",
    "            nn.Conv2d(in_channels,out_channels,3),\n",
    "            nn.BatchNorm2d(out_channels),\n",
    "            nn.ReLU(inplace=True),\n",
    "            nn.Conv2d(out_channels,out_channels,3),\n",
    "            nn.BatchNorm2d(out_channels),\n",
    "            nn.ReLU(inplace=True),\n",
    "        )\n",
    "\n",
    "\n",
    "\n",
    "    def forward(self, images,labels,seg_pcd_worlds,objinds):\n",
    "        poses = []\n",
    "        for image,label,seg_pcd_world,objind in zip(images,labels,seg_pcd_worlds,objinds):\n",
    "            fv = featureGen(image.unsqueeze(0)).squeeze(0)\n",
    "            pnf = stn(seg_pcd_world.unsqueeze(0)).squeeze(0)\n",
    "            pnf_fv = torch.cat([fv,pnf.unsqueeze(-1).unsqueeze(-1).expand(-1,*fv.shape[1:])]).unsqueeze(0)\n",
    "            x = self.down1(pnf_fv)\n",
    "            x = self.down2(x)\n",
    "            print(x.shape)\n",
    "            x = nn.Flatten()(x)\n",
    "            print(x.shape)\n",
    "            x = F.relu(self.fc1(x))\n",
    "            x = self.fc2(x)\n",
    "            poses+=[x]\n",
    "            \n",
    "        \n",
    "            \n",
    "            \n",
    "        \n",
    "        return torch.stach(x)\n"
   ]
  },
  {
   "cell_type": "code",
   "execution_count": 228,
   "id": "8a25114d",
   "metadata": {},
   "outputs": [],
   "source": [
    "rgb_files, depth_files, label_files, meta_files = get_split_files(training_data_dir,split_dir,'train')\n",
    "\n",
    "batch_size = 2\n",
    "denseFusionDataset = PcdCropToPoseDataset(rgb_files,label_files,depth_files,meta_files)\n",
    "trainloader = DataLoader(denseFusionDataset, batch_size=batch_size, shuffle=True,num_workers=2)\n"
   ]
  },
  {
   "cell_type": "code",
   "execution_count": 229,
   "id": "0d865d7f",
   "metadata": {},
   "outputs": [],
   "source": [
    "denseFusion = DenseFusion()"
   ]
  },
  {
   "cell_type": "code",
   "execution_count": 230,
   "id": "47120f18",
   "metadata": {},
   "outputs": [
    {
     "name": "stdout",
     "output_type": "stream",
     "text": [
      "torch.Size([1, 200, 106, 68])\n",
      "torch.Size([1, 1671168])\n"
     ]
    },
    {
     "ename": "RuntimeError",
     "evalue": "mat1 and mat2 shapes cannot be multiplied (1x1671168 and 512x128)",
     "output_type": "error",
     "traceback": [
      "\u001b[0;31m---------------------------------------------------------------------------\u001b[0m",
      "\u001b[0;31mRuntimeError\u001b[0m                              Traceback (most recent call last)",
      "\u001b[0;32m/tmp/ipykernel_141/2923650812.py\u001b[0m in \u001b[0;36m<module>\u001b[0;34m\u001b[0m\n\u001b[0;32m----> 1\u001b[0;31m denseFusion(denseFusionDataset[0][\"image\"],\n\u001b[0m\u001b[1;32m      2\u001b[0m            \u001b[0mdenseFusionDataset\u001b[0m\u001b[0;34m[\u001b[0m\u001b[0;36m0\u001b[0m\u001b[0;34m]\u001b[0m\u001b[0;34m[\u001b[0m\u001b[0;34m\"label\"\u001b[0m\u001b[0;34m]\u001b[0m\u001b[0;34m,\u001b[0m\u001b[0;34m\u001b[0m\u001b[0;34m\u001b[0m\u001b[0m\n\u001b[1;32m      3\u001b[0m            \u001b[0mdenseFusionDataset\u001b[0m\u001b[0;34m[\u001b[0m\u001b[0;36m0\u001b[0m\u001b[0;34m]\u001b[0m\u001b[0;34m[\u001b[0m\u001b[0;34m\"seg_pcd_world\"\u001b[0m\u001b[0;34m]\u001b[0m\u001b[0;34m,\u001b[0m\u001b[0;34m\u001b[0m\u001b[0;34m\u001b[0m\u001b[0m\n\u001b[1;32m      4\u001b[0m            \u001b[0mdenseFusionDataset\u001b[0m\u001b[0;34m[\u001b[0m\u001b[0;36m0\u001b[0m\u001b[0;34m]\u001b[0m\u001b[0;34m[\u001b[0m\u001b[0;34m\"obj_inds\"\u001b[0m\u001b[0;34m]\u001b[0m\u001b[0;34m\u001b[0m\u001b[0;34m\u001b[0m\u001b[0m\n\u001b[1;32m      5\u001b[0m            )\n",
      "\u001b[0;32m/opt/conda/lib/python3.9/site-packages/torch/nn/modules/module.py\u001b[0m in \u001b[0;36m_call_impl\u001b[0;34m(self, *input, **kwargs)\u001b[0m\n\u001b[1;32m   1049\u001b[0m         if not (self._backward_hooks or self._forward_hooks or self._forward_pre_hooks or _global_backward_hooks\n\u001b[1;32m   1050\u001b[0m                 or _global_forward_hooks or _global_forward_pre_hooks):\n\u001b[0;32m-> 1051\u001b[0;31m             \u001b[0;32mreturn\u001b[0m \u001b[0mforward_call\u001b[0m\u001b[0;34m(\u001b[0m\u001b[0;34m*\u001b[0m\u001b[0minput\u001b[0m\u001b[0;34m,\u001b[0m \u001b[0;34m**\u001b[0m\u001b[0mkwargs\u001b[0m\u001b[0;34m)\u001b[0m\u001b[0;34m\u001b[0m\u001b[0;34m\u001b[0m\u001b[0m\n\u001b[0m\u001b[1;32m   1052\u001b[0m         \u001b[0;31m# Do not call functions when jit is used\u001b[0m\u001b[0;34m\u001b[0m\u001b[0;34m\u001b[0m\u001b[0;34m\u001b[0m\u001b[0m\n\u001b[1;32m   1053\u001b[0m         \u001b[0mfull_backward_hooks\u001b[0m\u001b[0;34m,\u001b[0m \u001b[0mnon_full_backward_hooks\u001b[0m \u001b[0;34m=\u001b[0m \u001b[0;34m[\u001b[0m\u001b[0;34m]\u001b[0m\u001b[0;34m,\u001b[0m \u001b[0;34m[\u001b[0m\u001b[0;34m]\u001b[0m\u001b[0;34m\u001b[0m\u001b[0;34m\u001b[0m\u001b[0m\n",
      "\u001b[0;32m/tmp/ipykernel_141/3111463511.py\u001b[0m in \u001b[0;36mforward\u001b[0;34m(self, images, labels, seg_pcd_worlds, objinds)\u001b[0m\n\u001b[1;32m     44\u001b[0m             \u001b[0mx\u001b[0m \u001b[0;34m=\u001b[0m \u001b[0mnn\u001b[0m\u001b[0;34m.\u001b[0m\u001b[0mFlatten\u001b[0m\u001b[0;34m(\u001b[0m\u001b[0;34m)\u001b[0m\u001b[0;34m(\u001b[0m\u001b[0mx\u001b[0m\u001b[0;34m)\u001b[0m\u001b[0;34m\u001b[0m\u001b[0;34m\u001b[0m\u001b[0m\n\u001b[1;32m     45\u001b[0m             \u001b[0mprint\u001b[0m\u001b[0;34m(\u001b[0m\u001b[0mx\u001b[0m\u001b[0;34m.\u001b[0m\u001b[0mshape\u001b[0m\u001b[0;34m)\u001b[0m\u001b[0;34m\u001b[0m\u001b[0;34m\u001b[0m\u001b[0m\n\u001b[0;32m---> 46\u001b[0;31m             \u001b[0mx\u001b[0m \u001b[0;34m=\u001b[0m \u001b[0mF\u001b[0m\u001b[0;34m.\u001b[0m\u001b[0mrelu\u001b[0m\u001b[0;34m(\u001b[0m\u001b[0mself\u001b[0m\u001b[0;34m.\u001b[0m\u001b[0mfc1\u001b[0m\u001b[0;34m(\u001b[0m\u001b[0mx\u001b[0m\u001b[0;34m)\u001b[0m\u001b[0;34m)\u001b[0m\u001b[0;34m\u001b[0m\u001b[0;34m\u001b[0m\u001b[0m\n\u001b[0m\u001b[1;32m     47\u001b[0m             \u001b[0mx\u001b[0m \u001b[0;34m=\u001b[0m \u001b[0mself\u001b[0m\u001b[0;34m.\u001b[0m\u001b[0mfc2\u001b[0m\u001b[0;34m(\u001b[0m\u001b[0mx\u001b[0m\u001b[0;34m)\u001b[0m\u001b[0;34m\u001b[0m\u001b[0;34m\u001b[0m\u001b[0m\n\u001b[1;32m     48\u001b[0m             \u001b[0mposes\u001b[0m\u001b[0;34m+=\u001b[0m\u001b[0;34m[\u001b[0m\u001b[0mx\u001b[0m\u001b[0;34m]\u001b[0m\u001b[0;34m\u001b[0m\u001b[0;34m\u001b[0m\u001b[0m\n",
      "\u001b[0;32m/opt/conda/lib/python3.9/site-packages/torch/nn/modules/module.py\u001b[0m in \u001b[0;36m_call_impl\u001b[0;34m(self, *input, **kwargs)\u001b[0m\n\u001b[1;32m   1049\u001b[0m         if not (self._backward_hooks or self._forward_hooks or self._forward_pre_hooks or _global_backward_hooks\n\u001b[1;32m   1050\u001b[0m                 or _global_forward_hooks or _global_forward_pre_hooks):\n\u001b[0;32m-> 1051\u001b[0;31m             \u001b[0;32mreturn\u001b[0m \u001b[0mforward_call\u001b[0m\u001b[0;34m(\u001b[0m\u001b[0;34m*\u001b[0m\u001b[0minput\u001b[0m\u001b[0;34m,\u001b[0m \u001b[0;34m**\u001b[0m\u001b[0mkwargs\u001b[0m\u001b[0;34m)\u001b[0m\u001b[0;34m\u001b[0m\u001b[0;34m\u001b[0m\u001b[0m\n\u001b[0m\u001b[1;32m   1052\u001b[0m         \u001b[0;31m# Do not call functions when jit is used\u001b[0m\u001b[0;34m\u001b[0m\u001b[0;34m\u001b[0m\u001b[0;34m\u001b[0m\u001b[0m\n\u001b[1;32m   1053\u001b[0m         \u001b[0mfull_backward_hooks\u001b[0m\u001b[0;34m,\u001b[0m \u001b[0mnon_full_backward_hooks\u001b[0m \u001b[0;34m=\u001b[0m \u001b[0;34m[\u001b[0m\u001b[0;34m]\u001b[0m\u001b[0;34m,\u001b[0m \u001b[0;34m[\u001b[0m\u001b[0;34m]\u001b[0m\u001b[0;34m\u001b[0m\u001b[0;34m\u001b[0m\u001b[0m\n",
      "\u001b[0;32m/opt/conda/lib/python3.9/site-packages/torch/nn/modules/linear.py\u001b[0m in \u001b[0;36mforward\u001b[0;34m(self, input)\u001b[0m\n\u001b[1;32m     94\u001b[0m \u001b[0;34m\u001b[0m\u001b[0m\n\u001b[1;32m     95\u001b[0m     \u001b[0;32mdef\u001b[0m \u001b[0mforward\u001b[0m\u001b[0;34m(\u001b[0m\u001b[0mself\u001b[0m\u001b[0;34m,\u001b[0m \u001b[0minput\u001b[0m\u001b[0;34m:\u001b[0m \u001b[0mTensor\u001b[0m\u001b[0;34m)\u001b[0m \u001b[0;34m->\u001b[0m \u001b[0mTensor\u001b[0m\u001b[0;34m:\u001b[0m\u001b[0;34m\u001b[0m\u001b[0;34m\u001b[0m\u001b[0m\n\u001b[0;32m---> 96\u001b[0;31m         \u001b[0;32mreturn\u001b[0m \u001b[0mF\u001b[0m\u001b[0;34m.\u001b[0m\u001b[0mlinear\u001b[0m\u001b[0;34m(\u001b[0m\u001b[0minput\u001b[0m\u001b[0;34m,\u001b[0m \u001b[0mself\u001b[0m\u001b[0;34m.\u001b[0m\u001b[0mweight\u001b[0m\u001b[0;34m,\u001b[0m \u001b[0mself\u001b[0m\u001b[0;34m.\u001b[0m\u001b[0mbias\u001b[0m\u001b[0;34m)\u001b[0m\u001b[0;34m\u001b[0m\u001b[0;34m\u001b[0m\u001b[0m\n\u001b[0m\u001b[1;32m     97\u001b[0m \u001b[0;34m\u001b[0m\u001b[0m\n\u001b[1;32m     98\u001b[0m     \u001b[0;32mdef\u001b[0m \u001b[0mextra_repr\u001b[0m\u001b[0;34m(\u001b[0m\u001b[0mself\u001b[0m\u001b[0;34m)\u001b[0m \u001b[0;34m->\u001b[0m \u001b[0mstr\u001b[0m\u001b[0;34m:\u001b[0m\u001b[0;34m\u001b[0m\u001b[0;34m\u001b[0m\u001b[0m\n",
      "\u001b[0;32m/opt/conda/lib/python3.9/site-packages/torch/nn/functional.py\u001b[0m in \u001b[0;36mlinear\u001b[0;34m(input, weight, bias)\u001b[0m\n\u001b[1;32m   1845\u001b[0m     \u001b[0;32mif\u001b[0m \u001b[0mhas_torch_function_variadic\u001b[0m\u001b[0;34m(\u001b[0m\u001b[0minput\u001b[0m\u001b[0;34m,\u001b[0m \u001b[0mweight\u001b[0m\u001b[0;34m)\u001b[0m\u001b[0;34m:\u001b[0m\u001b[0;34m\u001b[0m\u001b[0;34m\u001b[0m\u001b[0m\n\u001b[1;32m   1846\u001b[0m         \u001b[0;32mreturn\u001b[0m \u001b[0mhandle_torch_function\u001b[0m\u001b[0;34m(\u001b[0m\u001b[0mlinear\u001b[0m\u001b[0;34m,\u001b[0m \u001b[0;34m(\u001b[0m\u001b[0minput\u001b[0m\u001b[0;34m,\u001b[0m \u001b[0mweight\u001b[0m\u001b[0;34m)\u001b[0m\u001b[0;34m,\u001b[0m \u001b[0minput\u001b[0m\u001b[0;34m,\u001b[0m \u001b[0mweight\u001b[0m\u001b[0;34m,\u001b[0m \u001b[0mbias\u001b[0m\u001b[0;34m=\u001b[0m\u001b[0mbias\u001b[0m\u001b[0;34m)\u001b[0m\u001b[0;34m\u001b[0m\u001b[0;34m\u001b[0m\u001b[0m\n\u001b[0;32m-> 1847\u001b[0;31m     \u001b[0;32mreturn\u001b[0m \u001b[0mtorch\u001b[0m\u001b[0;34m.\u001b[0m\u001b[0m_C\u001b[0m\u001b[0;34m.\u001b[0m\u001b[0m_nn\u001b[0m\u001b[0;34m.\u001b[0m\u001b[0mlinear\u001b[0m\u001b[0;34m(\u001b[0m\u001b[0minput\u001b[0m\u001b[0;34m,\u001b[0m \u001b[0mweight\u001b[0m\u001b[0;34m,\u001b[0m \u001b[0mbias\u001b[0m\u001b[0;34m)\u001b[0m\u001b[0;34m\u001b[0m\u001b[0;34m\u001b[0m\u001b[0m\n\u001b[0m\u001b[1;32m   1848\u001b[0m \u001b[0;34m\u001b[0m\u001b[0m\n\u001b[1;32m   1849\u001b[0m \u001b[0;34m\u001b[0m\u001b[0m\n",
      "\u001b[0;31mRuntimeError\u001b[0m: mat1 and mat2 shapes cannot be multiplied (1x1671168 and 512x128)"
     ]
    }
   ],
   "source": [
    "denseFusion(denseFusionDataset[0][\"image\"],\n",
    "           denseFusionDataset[0][\"label\"],\n",
    "           denseFusionDataset[0][\"seg_pcd_world\"],\n",
    "           denseFusionDataset[0][\"obj_inds\"]\n",
    "           )"
   ]
  },
  {
   "cell_type": "code",
   "execution_count": 193,
   "id": "cb604aea",
   "metadata": {},
   "outputs": [],
   "source": [
    "image = denseFusionDataset[0][\"image\"][1]\n",
    "label = denseFusionDataset[0][\"label\"][1]\n",
    "seg_pcd_world = denseFusionDataset[0][\"seg_pcd_world\"][1]\n",
    "world_pose = denseFusionDataset[0][\"world_pose\"][1]\n",
    "objind = denseFusionDataset[0][\"obj_inds\"][1]\n"
   ]
  },
  {
   "cell_type": "code",
   "execution_count": 194,
   "id": "2e8eb16c",
   "metadata": {},
   "outputs": [],
   "source": [
    "stn = STN3d()\n",
    "featureGen = FeatureGen()"
   ]
  },
  {
   "cell_type": "code",
   "execution_count": null,
   "id": "1e092cca",
   "metadata": {},
   "outputs": [],
   "source": []
  },
  {
   "cell_type": "code",
   "execution_count": 195,
   "id": "5c296953",
   "metadata": {},
   "outputs": [],
   "source": [
    "fv = featureGen(image.unsqueeze(0)).squeeze(0)"
   ]
  },
  {
   "cell_type": "code",
   "execution_count": 201,
   "id": "0c944128",
   "metadata": {},
   "outputs": [
    {
     "data": {
      "text/plain": [
       "torch.Size([68, 48])"
      ]
     },
     "execution_count": 201,
     "metadata": {},
     "output_type": "execute_result"
    }
   ],
   "source": []
  },
  {
   "cell_type": "code",
   "execution_count": 197,
   "id": "f49ad66a",
   "metadata": {},
   "outputs": [
    {
     "data": {
      "text/plain": [
       "torch.Size([68, 48, 32])"
      ]
     },
     "execution_count": 197,
     "metadata": {},
     "output_type": "execute_result"
    }
   ],
   "source": [
    "fv.permute(1,2,0).shape"
   ]
  },
  {
   "cell_type": "code",
   "execution_count": 198,
   "id": "12e67e58",
   "metadata": {},
   "outputs": [
    {
     "data": {
      "text/plain": [
       "torch.Size([1, 3, 2567])"
      ]
     },
     "execution_count": 198,
     "metadata": {},
     "output_type": "execute_result"
    }
   ],
   "source": [
    "seg_pcd_world.unsqueeze(0).shape"
   ]
  },
  {
   "cell_type": "code",
   "execution_count": 199,
   "id": "4f493c44",
   "metadata": {},
   "outputs": [],
   "source": [
    "pnf = stn(seg_pcd_world.unsqueeze(0)).squeeze(0)"
   ]
  },
  {
   "cell_type": "code",
   "execution_count": 200,
   "id": "e85c8633",
   "metadata": {},
   "outputs": [
    {
     "data": {
      "text/plain": [
       "torch.Size([128])"
      ]
     },
     "execution_count": 200,
     "metadata": {},
     "output_type": "execute_result"
    }
   ],
   "source": [
    "pnf.shape"
   ]
  },
  {
   "cell_type": "code",
   "execution_count": 206,
   "id": "5d806040",
   "metadata": {},
   "outputs": [],
   "source": [
    "pnf_fv = torch.cat([fv,pnf.unsqueeze(-1).unsqueeze(-1).expand(-1,*fv.shape[1:])]).unsqueeze(0)"
   ]
  },
  {
   "cell_type": "code",
   "execution_count": 209,
   "id": "80c6013d",
   "metadata": {},
   "outputs": [
    {
     "data": {
      "text/plain": [
       "torch.Size([1, 160, 68, 48])"
      ]
     },
     "execution_count": 209,
     "metadata": {},
     "output_type": "execute_result"
    }
   ],
   "source": [
    "pnf_fv.shape"
   ]
  },
  {
   "cell_type": "code",
   "execution_count": 208,
   "id": "376166b7",
   "metadata": {},
   "outputs": [
    {
     "data": {
      "text/plain": [
       "torch.Size([1, 200, 68, 48])"
      ]
     },
     "execution_count": 208,
     "metadata": {},
     "output_type": "execute_result"
    }
   ],
   "source": [
    "nn.Conv2d(160,200,3,padding='same')(pnf_fv).shape"
   ]
  },
  {
   "cell_type": "code",
   "execution_count": 126,
   "id": "ffbd320b",
   "metadata": {},
   "outputs": [
    {
     "ename": "RuntimeError",
     "evalue": "The expanded size of the tensor (72) must match the existing size (128) at non-singleton dimension 2.  Target sizes: [-1, 110, 72].  Tensor sizes: [128]",
     "output_type": "error",
     "traceback": [
      "\u001b[0;31m---------------------------------------------------------------------------\u001b[0m",
      "\u001b[0;31mRuntimeError\u001b[0m                              Traceback (most recent call last)",
      "\u001b[0;32m/tmp/ipykernel_141/3487779151.py\u001b[0m in \u001b[0;36m<module>\u001b[0;34m\u001b[0m\n\u001b[0;32m----> 1\u001b[0;31m \u001b[0mpnf\u001b[0m\u001b[0;34m.\u001b[0m\u001b[0mexpand\u001b[0m\u001b[0;34m(\u001b[0m\u001b[0;34m-\u001b[0m\u001b[0;36m1\u001b[0m\u001b[0;34m,\u001b[0m\u001b[0;36m110\u001b[0m\u001b[0;34m,\u001b[0m\u001b[0;36m72\u001b[0m\u001b[0;34m)\u001b[0m\u001b[0;34m.\u001b[0m\u001b[0mshape\u001b[0m\u001b[0;34m\u001b[0m\u001b[0;34m\u001b[0m\u001b[0m\n\u001b[0m",
      "\u001b[0;31mRuntimeError\u001b[0m: The expanded size of the tensor (72) must match the existing size (128) at non-singleton dimension 2.  Target sizes: [-1, 110, 72].  Tensor sizes: [128]"
     ]
    }
   ],
   "source": [
    "pnf.expand(-1,110,72).shape"
   ]
  },
  {
   "cell_type": "code",
   "execution_count": 113,
   "id": "6ff0ca0b",
   "metadata": {},
   "outputs": [
    {
     "ename": "RuntimeError",
     "evalue": "torch.cat(): Tensors must have same number of dimensions: got 3 and 1",
     "output_type": "error",
     "traceback": [
      "\u001b[0;31m---------------------------------------------------------------------------\u001b[0m",
      "\u001b[0;31mRuntimeError\u001b[0m                              Traceback (most recent call last)",
      "\u001b[0;32m/tmp/ipykernel_141/2182892742.py\u001b[0m in \u001b[0;36m<module>\u001b[0;34m\u001b[0m\n\u001b[0;32m----> 1\u001b[0;31m \u001b[0mtorch\u001b[0m\u001b[0;34m.\u001b[0m\u001b[0mcat\u001b[0m\u001b[0;34m(\u001b[0m\u001b[0;34m[\u001b[0m\u001b[0mfv\u001b[0m\u001b[0;34m,\u001b[0m\u001b[0mpnf\u001b[0m\u001b[0;34m]\u001b[0m\u001b[0;34m,\u001b[0m\u001b[0;36m0\u001b[0m\u001b[0;34m)\u001b[0m\u001b[0;34m\u001b[0m\u001b[0;34m\u001b[0m\u001b[0m\n\u001b[0m",
      "\u001b[0;31mRuntimeError\u001b[0m: torch.cat(): Tensors must have same number of dimensions: got 3 and 1"
     ]
    }
   ],
   "source": [
    "torch.cat([fv,pnf],0)"
   ]
  },
  {
   "cell_type": "code",
   "execution_count": 73,
   "id": "c11d30f5",
   "metadata": {},
   "outputs": [],
   "source": [
    "                \"label\": crop_lbls, \n",
    "                \"seg_pcd_world\":seg_pcd_worlds,\n",
    "               \"world_pose\":world_poses}"
   ]
  },
  {
   "cell_type": "code",
   "execution_count": 75,
   "id": "3e5790f7",
   "metadata": {},
   "outputs": [
    {
     "name": "stdout",
     "output_type": "stream",
     "text": [
      "torch.Size([1, 32, 720, 1280])\n"
     ]
    }
   ],
   "source": [
    "fv = featureGen(torch.unsqueeze(denseFusionDataset[0]['image'],0))"
   ]
  },
  {
   "cell_type": "code",
   "execution_count": 84,
   "id": "b99bcb01",
   "metadata": {},
   "outputs": [
    {
     "data": {
      "text/plain": [
       "torch.Size([32, 720, 1280])"
      ]
     },
     "execution_count": 84,
     "metadata": {},
     "output_type": "execute_result"
    }
   ],
   "source": [
    "torch.squeeze(fv,0).shape"
   ]
  },
  {
   "cell_type": "code",
   "execution_count": 96,
   "id": "e6bf33f5",
   "metadata": {},
   "outputs": [
    {
     "data": {
      "text/plain": [
       "torch.Size([1, 32, 720, 1280])"
      ]
     },
     "execution_count": 96,
     "metadata": {},
     "output_type": "execute_result"
    }
   ],
   "source": [
    "fv.size()"
   ]
  },
  {
   "cell_type": "code",
   "execution_count": 95,
   "id": "43a0afc6",
   "metadata": {},
   "outputs": [
    {
     "ename": "NameError",
     "evalue": "name 'tm' is not defined",
     "output_type": "error",
     "traceback": [
      "\u001b[0;31m---------------------------------------------------------------------------\u001b[0m",
      "\u001b[0;31mNameError\u001b[0m                                 Traceback (most recent call last)",
      "\u001b[0;32m/tmp/ipykernel_1107/4154034582.py\u001b[0m in \u001b[0;36m<module>\u001b[0;34m\u001b[0m\n\u001b[0;32m----> 1\u001b[0;31m \u001b[0mtm\u001b[0m\u001b[0;34m\u001b[0m\u001b[0;34m\u001b[0m\u001b[0m\n\u001b[0m",
      "\u001b[0;31mNameError\u001b[0m: name 'tm' is not defined"
     ]
    }
   ],
   "source": [
    "tm"
   ]
  },
  {
   "cell_type": "code",
   "execution_count": 98,
   "id": "587d0125",
   "metadata": {},
   "outputs": [
    {
     "data": {
      "text/plain": [
       "torch.Size([1, 32, 720, 1280])"
      ]
     },
     "execution_count": 98,
     "metadata": {},
     "output_type": "execute_result"
    }
   ],
   "source": [
    "torch.masked_select(fvtorch.unsqueeze(denseFusionDataset[0]['label']==80,0).expand(fv.size()).shape"
   ]
  },
  {
   "cell_type": "code",
   "execution_count": 42,
   "id": "36a379d9",
   "metadata": {},
   "outputs": [
    {
     "name": "stdout",
     "output_type": "stream",
     "text": [
      "torch.Size([4320, 3])\n",
      "torch.Size([2567, 3])\n",
      "torch.Size([4148, 3])\n",
      "torch.Size([1171, 3])\n",
      "torch.Size([3268, 3])\n"
     ]
    }
   ],
   "source": [
    "pcd_data = denseFusionDataset[0]['pcd_data']\n",
    "for k in pcd_data:\n",
    "    print(pcd_data[k]['world_pcd'].shape)"
   ]
  },
  {
   "cell_type": "code",
   "execution_count": null,
   "id": "ab577388",
   "metadata": {},
   "outputs": [],
   "source": []
  }
 ],
 "metadata": {
  "kernelspec": {
   "display_name": "Python 3 (ipykernel)",
   "language": "python",
   "name": "python3"
  },
  "language_info": {
   "codemirror_mode": {
    "name": "ipython",
    "version": 3
   },
   "file_extension": ".py",
   "mimetype": "text/x-python",
   "name": "python",
   "nbconvert_exporter": "python",
   "pygments_lexer": "ipython3",
   "version": "3.9.12"
  }
 },
 "nbformat": 4,
 "nbformat_minor": 5
}
