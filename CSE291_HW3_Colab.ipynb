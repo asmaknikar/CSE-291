{
 "cells": [
  {
   "cell_type": "markdown",
   "metadata": {
    "id": "kc7Lk4nbPXcV"
   },
   "source": [
    "Mounting Drive"
   ]
  },
  {
   "cell_type": "code",
   "execution_count": null,
   "metadata": {
    "colab": {
     "base_uri": "https://localhost:8080/"
    },
    "id": "eFTf1Qc9OD97",
    "outputId": "ceaf0ea0-b9de-40d9-c924-3d92543433d7"
   },
   "outputs": [
    {
     "name": "stdout",
     "output_type": "stream",
     "text": [
      "Mounted at /content/drive\n"
     ]
    }
   ],
   "source": [
    "from google.colab import drive\n",
    "drive.mount('/content/drive')"
   ]
  },
  {
   "cell_type": "code",
   "execution_count": null,
   "metadata": {
    "id": "kEQReUV6PaV9"
   },
   "outputs": [],
   "source": [
    "!unzip /content/drive/MyDrive/CSE291_HW3/dataset/models.zip\n",
    "!unzip /content/drive/MyDrive/CSE291_HW3/dataset/testing_data_final.zip\n",
    "!unzip /content/drive/MyDrive/CSE291_HW3/dataset/testing_data_pose.zip\n",
    "!unzip /content/drive/MyDrive/CSE291_HW3/dataset/training_data.zip\n",
    "\n",
    "!cp -r /content/drive/MyDrive/CSE291_HW3/benchmark_utils/ .\n",
    "!cp /content/drive/MyDrive/CSE291_HW3/utils.py .\n",
    "!cp /content/drive/MyDrive/CSE291_HW3/chamfer.py .\n",
    "\n",
    "!pip install open3d\n",
    "!pip install transforms3d\n",
    "!pip install pillow"
   ]
  },
  {
   "cell_type": "code",
   "execution_count": null,
   "metadata": {
    "colab": {
     "background_save": true
    },
    "id": "8p6xd4k9XFnK",
    "outputId": "a64a0be1-70b0-4005-b357-3b0f12a7efa9"
   },
   "outputs": [
    {
     "name": "stdout",
     "output_type": "stream",
     "text": [
      "cp: missing destination file operand after '/content/drive/MyDrive/CSE291_HW3/chamfer.py'\n",
      "Try 'cp --help' for more information.\n"
     ]
    }
   ],
   "source": [
    "!cp -r /content/drive/MyDrive/CSE291_HW3/benchmark_utils/ .\n",
    "!cp /content/drive/MyDrive/CSE291_HW3/utils.py .\n",
    "!cp /content/drive/MyDrive/CSE291_HW3/chamfer.py"
   ]
  },
  {
   "cell_type": "code",
   "execution_count": null,
   "metadata": {
    "colab": {
     "base_uri": "https://localhost:8080/"
    },
    "id": "qihFi8i1gfCt",
    "outputId": "d124a9b0-f8e3-4484-cbd7-88280214b4a7"
   },
   "outputs": [
    {
     "name": "stdout",
     "output_type": "stream",
     "text": [
      "Looking in indexes: https://pypi.org/simple, https://us-python.pkg.dev/colab-wheels/public/simple/\n",
      "Requirement already satisfied: pillow in /usr/local/lib/python3.8/dist-packages (9.3.0)\n"
     ]
    }
   ],
   "source": []
  },
  {
   "cell_type": "markdown",
   "metadata": {
    "id": "reSg2-WJTGt3"
   },
   "source": [
    "# Loading Data"
   ]
  },
  {
   "cell_type": "code",
   "execution_count": null,
   "metadata": {
    "id": "Ws2awutrV-lj"
   },
   "outputs": [],
   "source": [
    "import json\n",
    "import multiprocessing\n",
    "import os\n",
    "import pickle\n",
    "from collections import defaultdict\n",
    "from multiprocessing import Manager, Pool\n",
    "from multiprocessing.managers import SyncManager\n",
    "from operator import attrgetter\n",
    "from pathlib import Path\n",
    "\n",
    "import matplotlib.pyplot as plt\n",
    "import numpy as np\n",
    "import open3d\n",
    "from PIL import Image\n",
    "from tqdm import tqdm\n",
    "\n",
    "import utils\n",
    "from benchmark_utils import pose_utils\n",
    "from sklearn.decomposition import PCA\n",
    "from scipy.spatial.transform import Rotation as R\n",
    "import warnings\n"
   ]
  },
  {
   "cell_type": "code",
   "execution_count": null,
   "metadata": {
    "id": "PszPkgtZTKtt"
   },
   "outputs": [],
   "source": [
    "testing_data_dir = \"./testing_data_pose_filtered/testing_data/v2.2\"\n",
    "split_dir = \"./training_data_filtered/training_data/splits/v2\"\n",
    "training_data_dir = \"./training_data_filtered/training_data/v2.2\"\n"
   ]
  },
  {
   "cell_type": "markdown",
   "metadata": {
    "id": "RVwmfY8kaUKU"
   },
   "source": [
    "# Functions"
   ]
  },
  {
   "cell_type": "code",
   "execution_count": null,
   "metadata": {
    "id": "UpbMvvjDV7II"
   },
   "outputs": [],
   "source": [
    "def get_split_files(training_data_dir,split_dir,split_name):\n",
    "    with open(os.path.join(split_dir, f\"{split_name}.txt\"), 'r') as f:\n",
    "        prefix = [os.path.join(training_data_dir, line.strip()) for line in f if line.strip()]\n",
    "        rgb = [p + \"_color_kinect.png\" for p in prefix]\n",
    "        depth = [p + \"_depth_kinect.png\" for p in prefix]\n",
    "        label = [p + \"_label_kinect.png\" for p in prefix]\n",
    "        meta = [p + \"_meta.pkl\" for p in prefix]\n",
    "    return rgb, depth, label, meta\n",
    "\n",
    "def np2o3d(points_viewer):\n",
    "    # points = open3d.utility.Vector3dVector(points_viewer.reshape([-1, 3]))\n",
    "    # colors = open3d.utility.Vector3dVector(rgb.reshape([-1, 3]))\n",
    "    points = open3d.utility.Vector3dVector(points_viewer.reshape([-1, 3]))\n",
    "    pcd = open3d.geometry.PointCloud()\n",
    "    pcd.points = points\n",
    "    # pcd.colors = colors\n",
    "    return pcd\n",
    "\n",
    "def draw_bb(poses_world,meta,rgb):\n",
    "    box_sizes = np.array([meta['extents'][idx] * meta['scales'][idx] for idx in meta['object_ids']])\n",
    "    boxed_image = np.array(rgb)\n",
    "    for i in range(len(poses_world)):\n",
    "        utils.draw_projected_box3d(\n",
    "            boxed_image, poses_world[i][:3,3], box_sizes[i], poses_world[i][:3, :3], meta['extrinsic'], meta['intrinsic'],\n",
    "            thickness=2)\n",
    "    # plt.plot(Image.fromarray((boxed_image * 255).astype(np.uint8)))\n",
    "    return(Image.fromarray((boxed_image * 255).astype(np.uint8)))\n",
    "\n",
    "def point_cloud_image_in_c(meta,depth):\n",
    "    intrinsic = meta['intrinsic']\n",
    "    z = depth\n",
    "    v, u = np.indices(z.shape)\n",
    "    uv1 = np.stack([u + 0.5, v + 0.5, np.ones_like(z)], axis=-1)\n",
    "    points_viewer = uv1 @ np.linalg.inv(intrinsic).T * z[..., None]  # [H, W, 3]\n",
    "    return(points_viewer)\n",
    "\n",
    "def align_rotation_matrix(vec1, vec2):\n",
    "    \"\"\"get rotation matrix between two vectors using scipy\n",
    "    vec1->source\n",
    "    vec2->target\n",
    "    \"\"\"\n",
    "    vec1 = np.reshape(vec1, (1, -1))\n",
    "    vec2 = np.reshape(vec2, (1, -1))\n",
    "    r = R.align_vectors(vec2, vec1)\n",
    "    return r[0].as_matrix()\n",
    "\n",
    "def rot_align_via_PCA(src,tgt):\n",
    "    try:\n",
    "        pca = PCA(n_components=3)\n",
    "        pca.fit(src)\n",
    "        eig_vec = pca.components_\n",
    "        normal_src = eig_vec[2, :] \n",
    "        pca = PCA(n_components=3)\n",
    "        pca.fit(tgt)\n",
    "        eig_vec = pca.components_\n",
    "        normal_tgt = eig_vec[2, :] \n",
    "        return(align_rotation_matrix(normal_src, normal_tgt))\n",
    "    except:\n",
    "        return(np.eye(3))\n",
    "    \n",
    "\n",
    "def get_best_transform(pcd,obj,skip = 64,train_red_factor = 1):\n",
    "    registrationResults = []\n",
    "    init_t = np.eye(4)\n",
    "    for pcd_tr in tqdm(point_cloud_dict[obj][::train_red_factor],leave=False):\n",
    "        pcd_tr = pcd_tr[::skip]\n",
    "        # pcd = pcd[::skip]\n",
    "        shift = (np.mean(pcd,0)-np.mean(pcd_tr,0))\n",
    "        init_t[:3,3] = shift\n",
    "        init_t[:3,:3] = rot_align_via_PCA(pcd_tr,pcd)\n",
    "        tmp = open3d.pipelines.registration.registration_icp(np2o3d(pcd_tr),\n",
    "                                                             np2o3d(pcd),\n",
    "                                                     0.2,init_t)        \n",
    "        registrationResults.append([len(tmp.correspondence_set),tmp.inlier_rmse,tmp.transformation])\n",
    "    registrationResults = np.array(registrationResults,dtype=object)\n",
    "    if(not(np.all(registrationResults[:,0]==0))):\n",
    "        registrationResults = registrationResults[np.squeeze(np.argwhere(registrationResults[:,0]!=0))]\n",
    "    registrationResults = registrationResults[np.argsort(-registrationResults[:,0])[:len(registrationResults)//5]]\n",
    "    T = np.copy(registrationResults[np.argmin(registrationResults[:,1])][2])\n",
    "    # print(T,registrationResults[np.argmin(registrationResults[:,1])],registrationResults)\n",
    "    # T[:3,3]+=shift\n",
    "    return(T)\n"
   ]
  },
  {
   "cell_type": "code",
   "execution_count": null,
   "metadata": {
    "id": "QCBCVCuKagXe"
   },
   "outputs": [],
   "source": [
    "rgb_files, depth_files, label_files, meta_files = get_split_files(training_data_dir,split_dir,'val')"
   ]
  },
  {
   "cell_type": "code",
   "execution_count": null,
   "metadata": {
    "id": "1f-Z62IAbrhI"
   },
   "outputs": [],
   "source": [
    "from matplotlib.cm import get_cmap\n",
    "NUM_OBJECTS = 79\n",
    "cmap = get_cmap('rainbow', NUM_OBJECTS)\n",
    "COLOR_PALETTE = np.array([cmap(i)[:3] for i in range(NUM_OBJECTS + 3)])\n",
    "COLOR_PALETTE = np.array(COLOR_PALETTE * 255, dtype=np.uint8)\n",
    "COLOR_PALETTE[-3] = [119, 135, 150]\n",
    "COLOR_PALETTE[-2] = [176, 194, 216]\n",
    "COLOR_PALETTE[-1] = [255, 255, 225]"
   ]
  },
  {
   "cell_type": "code",
   "execution_count": null,
   "metadata": {
    "colab": {
     "base_uri": "https://localhost:8080/",
     "height": 207
    },
    "id": "_R_GB_tUdPX4",
    "outputId": "b79645a5-a111-428a-e254-64716d01b921"
   },
   "outputs": [
    {
     "data": {
      "text/plain": [
       "<matplotlib.image.AxesImage at 0x7ff50ec1b2b0>"
      ]
     },
     "execution_count": 24,
     "metadata": {},
     "output_type": "execute_result"
    },
    {
     "data": {
      "image/png": "[encoded data removed]",
      "text/plain": [
       "<Figure size 1080x720 with 3 Axes>"
      ]
     },
     "metadata": {
      "needs_background": "light"
     },
     "output_type": "display_data"
    }
   ],
   "source": [
    "rgb = np.array(Image.open(rgb_files[0])) / 255   # convert 0-255 to 0-1\n",
    "depth = np.array(Image.open(depth_files[0])) / 1000   # convert from mm to m\n",
    "label = np.array(Image.open(label_files[0]))\n",
    "plt.figure(figsize=(15, 10))\n",
    "plt.subplot(1, 3, 1)\n",
    "plt.imshow(rgb)\n",
    "plt.subplot(1, 3, 2)\n",
    "plt.imshow(depth)\n",
    "plt.subplot(1, 3, 3)\n",
    "plt.imshow(COLOR_PALETTE[label])  # draw colorful segmentation"
   ]
  },
  {
   "cell_type": "code",
   "execution_count": null,
   "metadata": {
    "colab": {
     "base_uri": "https://localhost:8080/"
    },
    "id": "hNVbHaXMZ4Kg",
    "outputId": "a990a7a0-6ab7-4029-a8aa-4604fb4bfbe5"
   },
   "outputs": [
    {
     "data": {
      "text/plain": [
       "(720, 1280)"
      ]
     },
     "execution_count": 25,
     "metadata": {},
     "output_type": "execute_result"
    }
   ],
   "source": [
    "label.shape"
   ]
  },
  {
   "cell_type": "markdown",
   "metadata": {
    "id": "4OCQFSBAgzGK"
   },
   "source": [
    "# Applying UNet"
   ]
  },
  {
   "cell_type": "code",
   "execution_count": null,
   "metadata": {
    "id": "zWOkhtl0g6ah"
   },
   "outputs": [],
   "source": [
    "import torch\n",
    "from torch.nn import Conv2d\n",
    "from torch import nn\n",
    "from torchsummary import summary\n",
    "from tqdm import tqdm\n",
    "from torch.utils.data import TensorDataset, DataLoader\n"
   ]
  },
  {
   "cell_type": "code",
   "execution_count": null,
   "metadata": {
    "id": "SNdN5BFfhEj1"
   },
   "outputs": [],
   "source": [
    "class Unet(torch.nn.Module):\n",
    "    def __init__(self):\n",
    "        super(Unet,self).__init__()\n",
    "        self.down1 = self.UnetDoubleConv(3,64)\n",
    "        self.down2 = self.UnetDoubleConv(64,128)\n",
    "        self.down3 = self.UnetDoubleConv(128,256)\n",
    "        self.down4 = self.UnetDoubleConv(256,512)\n",
    "        self.down5 = self.UnetDoubleConv(512,1024)\n",
    "        \n",
    "        self.up1 = self.UnetDoubleConv(64,82)\n",
    "        self.up2 = self.UnetDoubleConv(128,64)\n",
    "        self.up3 = self.UnetDoubleConv(256,128)\n",
    "        self.up4 = self.UnetDoubleConv(512,256)\n",
    "        self.up5 = self.UnetDoubleConv(1024,512)\n",
    "        \n",
    "#         self.upConvT1 = nn.ConvTranspose2d(64,)\n",
    "        # self.upConvT2 = nn.ConvTranspose2d(128,64,2,2)\n",
    "        # self.upConvT3 = nn.ConvTranspose2d(256,128,2,2)\n",
    "        # self.upConvT4 = nn.ConvTranspose2d(512,256,2,2)\n",
    "        # self.upConvT5 = nn.ConvTranspose2d(1024,512,2,2)\n",
    "        \n",
    "        self.upConvT2 = self.UnetUpConv(128,64)\n",
    "        self.upConvT3 = self.UnetUpConv(256,128)\n",
    "        self.upConvT4 = self.UnetUpConv(512,256)\n",
    "        self.upConvT5 = self.UnetUpConv(1024,512)\n",
    "\n",
    "        self.softmax = torch.nn.Softmax(dim=1)\n",
    "\n",
    "        self.chut = nn.Conv2d(82,82,1,padding='same')\n",
    "\n",
    "        \n",
    "    def UnetDoubleConv(self,in_channels,out_channels):\n",
    "        return nn.Sequential(\n",
    "            nn.Conv2d(in_channels,out_channels,3,padding='same'),\n",
    "            nn.BatchNorm2d(out_channels),\n",
    "            nn.ReLU(inplace=True),\n",
    "            nn.Conv2d(out_channels,out_channels,3, padding='same'),\n",
    "            nn.BatchNorm2d(out_channels),\n",
    "            nn.ReLU(inplace=True),\n",
    "        )\n",
    "    \n",
    "    def UnetUpConv(self,in_channels,out_channels):\n",
    "        return nn.Sequential(\n",
    "            nn.ConvTranspose2d(in_channels,out_channels,2,2),\n",
    "            nn.BatchNorm2d(out_channels),\n",
    "            nn.ReLU(inplace=True)\n",
    "        )\n",
    "            \n",
    "    \n",
    "    def forward(self,x):\n",
    "        # x = x.permute(0, 3, 1, 2)\n",
    "        convOut1 = self.down1(x)\n",
    "        maxPool1 = nn.MaxPool2d(2)(convOut1)\n",
    "        convOut2 = self.down2(maxPool1)\n",
    "        maxPool2 = nn.MaxPool2d(2)(convOut2)\n",
    "        convOut3 = self.down3(maxPool2)\n",
    "        # maxPool3 = nn.MaxPool2d(2)(convOut3)\n",
    "        # convOut4 = self.down4(maxPool3)\n",
    "        # maxPool4 = nn.MaxPool2d(2)(convOut4)\n",
    "        # convOut5 = self.down5(maxPool4)\n",
    "#         maxPool5 = nn.MaxPool2d(2)(convOut5)\n",
    "        \n",
    "        \n",
    "        # upPool4 = self.upConvT4(convOut4)\n",
    "        # upPool4Cat = torch.cat([upPool4,convOut3],dim=1)\n",
    "        # incConvOut3 = self.up4(upPool4Cat)\n",
    "        # upPool3 = self.upConvT3(incConvOut3)\n",
    "        upPool3 = self.upConvT3(convOut3)\n",
    "        upPool3Cat = torch.cat([upPool3,convOut2],dim=1)\n",
    "        incConvOut2 = self.up3(upPool3Cat)\n",
    "        upPool2 = self.upConvT2(incConvOut2)\n",
    "        upPool2Cat = torch.cat([upPool2,convOut1],dim=1)\n",
    "        incConvOut1 = self.up2(upPool2Cat)\n",
    "        \n",
    "        out1 = self.up1(incConvOut1)\n",
    "        out = self.chut(out1)\n",
    "        # out = self.softmax(out)\n",
    "        # out = out.permute(0,3,1,2)\n",
    "        \n",
    "        # upPool3 = self.upConvT3(incConvOut3)\n",
    "        # incConvOut2 = self.up2(upPool3)\n",
    "        \n",
    "        return(out)\n",
    "        "
   ]
  },
  {
   "cell_type": "code",
   "execution_count": null,
   "metadata": {
    "colab": {
     "base_uri": "https://localhost:8080/"
    },
    "id": "945GBCZWAA-4",
    "outputId": "6bd34163-63c7-435a-f172-8420269b0653"
   },
   "outputs": [
    {
     "name": "stdout",
     "output_type": "stream",
     "text": [
      "----------------------------------------------------------------\n",
      "        Layer (type)               Output Shape         Param #\n",
      "================================================================\n",
      "            Conv2d-1         [-1, 64, 180, 320]           1,792\n",
      "       BatchNorm2d-2         [-1, 64, 180, 320]             128\n",
      "              ReLU-3         [-1, 64, 180, 320]               0\n",
      "            Conv2d-4         [-1, 64, 180, 320]          36,928\n",
      "       BatchNorm2d-5         [-1, 64, 180, 320]             128\n",
      "              ReLU-6         [-1, 64, 180, 320]               0\n",
      "            Conv2d-7         [-1, 128, 90, 160]          73,856\n",
      "       BatchNorm2d-8         [-1, 128, 90, 160]             256\n",
      "              ReLU-9         [-1, 128, 90, 160]               0\n",
      "           Conv2d-10         [-1, 128, 90, 160]         147,584\n",
      "      BatchNorm2d-11         [-1, 128, 90, 160]             256\n",
      "             ReLU-12         [-1, 128, 90, 160]               0\n",
      "           Conv2d-13          [-1, 256, 45, 80]         295,168\n",
      "      BatchNorm2d-14          [-1, 256, 45, 80]             512\n",
      "             ReLU-15          [-1, 256, 45, 80]               0\n",
      "           Conv2d-16          [-1, 256, 45, 80]         590,080\n",
      "      BatchNorm2d-17          [-1, 256, 45, 80]             512\n",
      "             ReLU-18          [-1, 256, 45, 80]               0\n",
      "  ConvTranspose2d-19         [-1, 128, 90, 160]         131,200\n",
      "      BatchNorm2d-20         [-1, 128, 90, 160]             256\n",
      "             ReLU-21         [-1, 128, 90, 160]               0\n",
      "           Conv2d-22         [-1, 128, 90, 160]         295,040\n",
      "      BatchNorm2d-23         [-1, 128, 90, 160]             256\n",
      "             ReLU-24         [-1, 128, 90, 160]               0\n",
      "           Conv2d-25         [-1, 128, 90, 160]         147,584\n",
      "      BatchNorm2d-26         [-1, 128, 90, 160]             256\n",
      "             ReLU-27         [-1, 128, 90, 160]               0\n",
      "  ConvTranspose2d-28         [-1, 64, 180, 320]          32,832\n",
      "      BatchNorm2d-29         [-1, 64, 180, 320]             128\n",
      "             ReLU-30         [-1, 64, 180, 320]               0\n",
      "           Conv2d-31         [-1, 64, 180, 320]          73,792\n",
      "      BatchNorm2d-32         [-1, 64, 180, 320]             128\n",
      "             ReLU-33         [-1, 64, 180, 320]               0\n",
      "           Conv2d-34         [-1, 64, 180, 320]          36,928\n",
      "      BatchNorm2d-35         [-1, 64, 180, 320]             128\n",
      "             ReLU-36         [-1, 64, 180, 320]               0\n",
      "           Conv2d-37         [-1, 82, 180, 320]          47,314\n",
      "      BatchNorm2d-38         [-1, 82, 180, 320]             164\n",
      "             ReLU-39         [-1, 82, 180, 320]               0\n",
      "           Conv2d-40         [-1, 82, 180, 320]          60,598\n",
      "      BatchNorm2d-41         [-1, 82, 180, 320]             164\n",
      "             ReLU-42         [-1, 82, 180, 320]               0\n",
      "           Conv2d-43         [-1, 82, 180, 320]           6,806\n",
      "================================================================\n",
      "Total params: 1,980,774\n",
      "Trainable params: 1,980,774\n",
      "Non-trainable params: 0\n",
      "----------------------------------------------------------------\n",
      "Input size (MB): 0.66\n",
      "Forward/backward pass size (MB): 927.25\n",
      "Params size (MB): 7.56\n",
      "Estimated Total Size (MB): 935.46\n",
      "----------------------------------------------------------------\n"
     ]
    }
   ],
   "source": [
    "multi_inputdevice = torch.device(\"cuda\" if torch.cuda.is_available() else \"cpu\")\n",
    "model = Unet().to(multi_inputdevice)\n",
    "summary(model,(3,180,320))\n",
    "torch.cuda.empty_cache()"
   ]
  },
  {
   "cell_type": "code",
   "execution_count": null,
   "metadata": {
    "id": "12N6wNzIJsPZ"
   },
   "outputs": [],
   "source": [
    "class Dataset(torch.utils.data.Dataset):\n",
    "  def __init__(self, rgb_files,label_files):\n",
    "    super().__init__()\n",
    "    self.image_names = rgb_files\n",
    "    self.label_names = label_files\n",
    "\n",
    "  def __len__(self):\n",
    "    return len(self.image_names)\n",
    "\n",
    "  def __getitem__(self, idx):\n",
    "    rgb = np.array(Image.open(self.image_names[idx]))\n",
    "    rgb = rgb[::4,::4]\n",
    "    img = (\n",
    "      torch.tensor(rgb / 255.0, dtype=torch.float32)\n",
    "      .permute(2, 0, 1)\n",
    "      .contiguous()\n",
    "    )\n",
    "    if(not(self.label_names is None)):\n",
    "      label = np.array(Image.open(self.label_names[idx]))\n",
    "      label = label[::4,::4]\n",
    "      lbl = torch.tensor(label, dtype=torch.int64).contiguous()\n",
    "    else:\n",
    "      lbl = None\n",
    "    return {\"image\": img, \"label\": lbl}"
   ]
  },
  {
   "cell_type": "code",
   "execution_count": null,
   "metadata": {
    "id": "52k4ojgzGWUg"
   },
   "outputs": [],
   "source": [
    "rgb_files, depth_files, label_files, meta_files = get_split_files(training_data_dir,split_dir,'train')\n",
    "rgb_files_val, depth_files_val, label_files_val, meta_files_val = get_split_files(training_data_dir,split_dir,'val')"
   ]
  },
  {
   "cell_type": "code",
   "execution_count": null,
   "metadata": {
    "id": "HYSxumeYNI3H"
   },
   "outputs": [],
   "source": [
    "batch_size = 8\n",
    "dataset_train = Dataset(rgb_files,label_files)\n",
    "trainloader = DataLoader(dataset_train, batch_size=batch_size, shuffle=True,num_workers=2)\n",
    "dataset_val = Dataset(rgb_files_val,label_files_val)\n",
    "valloader = DataLoader(dataset_val, batch_size=batch_size, shuffle=True,num_workers=2)"
   ]
  },
  {
   "cell_type": "code",
   "execution_count": null,
   "metadata": {
    "colab": {
     "base_uri": "https://localhost:8080/"
    },
    "id": "tSr5L_AOfdoK",
    "outputId": "15ebf936-45b9-46ed-d4ea-05a1da817a39"
   },
   "outputs": [
    {
     "name": "stdout",
     "output_type": "stream",
     "text": [
      "saved_model_2022_12_07T03_46_19\n"
     ]
    }
   ],
   "source": [
    "import datetime\n",
    "print(f'saved_model_{datetime.datetime.now().strftime(\"%Y_%m_%dT%H_%M_%S\")}')"
   ]
  },
  {
   "cell_type": "code",
   "execution_count": null,
   "metadata": {
    "colab": {
     "base_uri": "https://localhost:8080/",
     "height": 604
    },
    "id": "BqI30_7MHd2l",
    "outputId": "5078aabb-dffe-4cfd-f7c7-012fbac5fc62"
   },
   "outputs": [
    {
     "name": "stderr",
     "output_type": "stream",
     "text": [
      "Epoch 0: 100%|██████████| 496/496 [03:12<00:00,  2.57batch/s, loss=0.00666]\n"
     ]
    },
    {
     "name": "stdout",
     "output_type": "stream",
     "text": [
      " Validation Loss: 0.04915046691894531\n",
      "Validation Loss Decreased(inf--->1.474514) \t Saving The Model\n"
     ]
    },
    {
     "name": "stderr",
     "output_type": "stream",
     "text": [
      "Epoch 1: 100%|██████████| 496/496 [03:19<00:00,  2.49batch/s, loss=0.00175]\n"
     ]
    },
    {
     "name": "stdout",
     "output_type": "stream",
     "text": [
      " Validation Loss: 0.0005016292755802473\n",
      "Validation Loss Decreased(1.474514--->0.015049) \t Saving The Model\n"
     ]
    },
    {
     "name": "stderr",
     "output_type": "stream",
     "text": [
      "Epoch 2: 100%|██████████| 496/496 [03:20<00:00,  2.47batch/s, loss=0.00443]\n"
     ]
    },
    {
     "name": "stdout",
     "output_type": "stream",
     "text": [
      " Validation Loss: 0.0004614901108046373\n",
      "Validation Loss Decreased(0.015049--->0.013845) \t Saving The Model\n"
     ]
    },
    {
     "name": "stderr",
     "output_type": "stream",
     "text": [
      "Epoch 3: 100%|██████████| 496/496 [03:20<00:00,  2.47batch/s, loss=0.000632]\n"
     ]
    },
    {
     "name": "stdout",
     "output_type": "stream",
     "text": [
      " Validation Loss: 0.10935432910919189\n"
     ]
    },
    {
     "name": "stderr",
     "output_type": "stream",
     "text": [
      "Epoch 4: 100%|██████████| 496/496 [03:21<00:00,  2.47batch/s, loss=0.000317]\n"
     ]
    },
    {
     "name": "stdout",
     "output_type": "stream",
     "text": [
      " Validation Loss: 0.024516244729359944\n"
     ]
    },
    {
     "name": "stderr",
     "output_type": "stream",
     "text": [
      "Epoch 5: 100%|██████████| 496/496 [03:21<00:00,  2.46batch/s, loss=0.0473]\n"
     ]
    },
    {
     "name": "stdout",
     "output_type": "stream",
     "text": [
      " Validation Loss: 0.008822189768155415\n"
     ]
    },
    {
     "name": "stderr",
     "output_type": "stream",
     "text": [
      "Epoch 6: 100%|██████████| 496/496 [03:20<00:00,  2.47batch/s, loss=0.0102]\n"
     ]
    },
    {
     "name": "stdout",
     "output_type": "stream",
     "text": [
      " Validation Loss: 0.002028158058722814\n"
     ]
    },
    {
     "name": "stderr",
     "output_type": "stream",
     "text": [
      "Epoch 7:  74%|███████▎  | 365/496 [02:28<00:52,  2.47batch/s, loss=0.00398]<ipython-input-11-7b7fea59fc04>:11: DeprecationWarning: An exception was ignored while fetching the attribute `__array_interface__` from an object of type 'PngImageFile'.  With the exception of `AttributeError` NumPy will always raise this exception in the future.  Raise this deprecation warning to see the original exception. (Warning added NumPy 1.21)\n",
      "  rgb = np.array(Image.open(self.image_names[idx]))\n",
      "Epoch 7:  74%|███████▎  | 365/496 [02:28<00:53,  2.46batch/s, loss=0.00398]\n"
     ]
    },
    {
     "ename": "KeyboardInterrupt",
     "evalue": "ignored",
     "output_type": "error",
     "traceback": [
      "\u001b[0;31m---------------------------------------------------------------------------\u001b[0m",
      "\u001b[0;31mKeyboardInterrupt\u001b[0m                         Traceback (most recent call last)",
      "\u001b[0;32m<ipython-input-15-324cdba6902e>\u001b[0m in \u001b[0;36m<module>\u001b[0;34m\u001b[0m\n\u001b[1;32m     41\u001b[0m \u001b[0;34m\u001b[0m\u001b[0m\n\u001b[1;32m     42\u001b[0m         \u001b[0;31m# print statistics\u001b[0m\u001b[0;34m\u001b[0m\u001b[0;34m\u001b[0m\u001b[0;34m\u001b[0m\u001b[0m\n\u001b[0;32m---> 43\u001b[0;31m         \u001b[0mtepoch\u001b[0m\u001b[0;34m.\u001b[0m\u001b[0mset_postfix\u001b[0m\u001b[0;34m(\u001b[0m\u001b[0mloss\u001b[0m\u001b[0;34m=\u001b[0m\u001b[0mloss\u001b[0m\u001b[0;34m.\u001b[0m\u001b[0mitem\u001b[0m\u001b[0;34m(\u001b[0m\u001b[0;34m)\u001b[0m\u001b[0;34m)\u001b[0m\u001b[0;34m\u001b[0m\u001b[0;34m\u001b[0m\u001b[0m\n\u001b[0m\u001b[1;32m     44\u001b[0m         \u001b[0mrunning_loss\u001b[0m \u001b[0;34m+=\u001b[0m \u001b[0mloss\u001b[0m\u001b[0;34m.\u001b[0m\u001b[0mitem\u001b[0m\u001b[0;34m(\u001b[0m\u001b[0;34m)\u001b[0m\u001b[0;34m\u001b[0m\u001b[0;34m\u001b[0m\u001b[0m\n\u001b[1;32m     45\u001b[0m         \u001b[0;31m# if i % 100 == 0:    # print every 2000 mini-batches\u001b[0m\u001b[0;34m\u001b[0m\u001b[0;34m\u001b[0m\u001b[0;34m\u001b[0m\u001b[0m\n",
      "\u001b[0;31mKeyboardInterrupt\u001b[0m: "
     ]
    }
   ],
   "source": [
    "import datetime\n",
    "\n",
    "\n",
    "torch.cuda.empty_cache()\n",
    "device = torch.device('cuda' if torch.cuda.is_available() else 'cpu')\n",
    "model = Unet()\n",
    "model = model.to(device=device)\n",
    "criterion = torch.nn.CrossEntropyLoss()\n",
    "optimizer = torch.optim.Adam(model.parameters(),lr=0.004)\n",
    "\n",
    "epochs= 10\n",
    "\n",
    "min_valid_loss = np.inf\n",
    "\n",
    "\n",
    "for epoch in range(epochs):  # loop over the dataset multiple times\n",
    "\n",
    "    running_loss = 0.0\n",
    "    model.train()\n",
    "    with tqdm(trainloader, unit=\"batch\") as tepoch:\n",
    "      for data in tepoch:\n",
    "        inputs, labels = data['image'],data[\"label\"]\n",
    "        tepoch.set_description(f\"Epoch {epoch}\")\n",
    "        # trainset, valset = torch.utils.data.random_split(dataloader, [950,50])\n",
    "        # get the inputs; data is a list of [inputs, labels]\n",
    "        # inputs, labels = data\n",
    "        inputs, labels = inputs.to(device),labels.to(device)\n",
    "        # labels = torch.unsqueeze(torch.div(labels,255),1)\n",
    "        # labels = labels.type(torch.LongTensor)\n",
    "\n",
    "        # print('a')\n",
    "        # zero the parameter gradients\n",
    "        optimizer.zero_grad()\n",
    "\n",
    "        # forward + backward + optimize\n",
    "        outputs = model(inputs)\n",
    "        loss = criterion(outputs, labels)\n",
    "        loss.backward()\n",
    "        optimizer.step()\n",
    "        # print('b')\n",
    "\n",
    "        # print statistics\n",
    "        tepoch.set_postfix(loss=loss.item())\n",
    "        running_loss += loss.item()\n",
    "        # if i % 100 == 0:    # print every 2000 mini-batches\n",
    "        #     print(f'[{epoch + 1}, {i + 1:5d}] loss: {running_loss / 2000:.3f}')\n",
    "        #     running_loss = 0.0\n",
    "    valid_loss = 0.0\n",
    "    model.eval()     # Optional when not using Model Specific layer\n",
    "    for data_val in valloader:\n",
    "        # if torch.cuda.is_available():\n",
    "        data, labels = data_val['image'],data_val[\"label\"]\n",
    "        data, labels = data.to(device), labels.to(device)\n",
    "        \n",
    "        target = model(data)\n",
    "        loss = criterion(target,labels)\n",
    "        valid_loss = loss.item() * data.size(0)\n",
    "\n",
    "    print(f' Validation Loss: {valid_loss / len(valloader)}')\n",
    "    if min_valid_loss > valid_loss:\n",
    "        print(f'Validation Loss Decreased({min_valid_loss:.6f}--->{valid_loss:.6f}) \\t Saving The Model')\n",
    "        min_valid_loss = valid_loss\n",
    "        # Saving State Dict\n",
    "        # torch.save(model.state_dict(), '/content/drive/Othercomputers/My PC/UCSD Acads/Quarter 1/CSE 291/HW3/saved_model.pth')\n",
    "        torch.save(model.state_dict(), f'/content/drive/Othercomputers/My PC/UCSD Acads/Quarter 1/CSE 291/HW3/saved_model_{datetime.datetime.now().strftime(\"%Y_%m_%dT%H_%M_%S\")}_valloss_{valid_loss}.pth')\n",
    "\n",
    "    # model.eval()\n",
    "    # with tqdm(valloader, unit=\"batch\") as tepoch:\n",
    "    #   for inputs, labels in tepoch:\n",
    "    #     tepoch.set_description(f\"Epoch {epoch}\")\n"
   ]
  },
  {
   "cell_type": "markdown",
   "metadata": {
    "id": "pq2Zq39aI358"
   },
   "source": [
    "## Inference Tesing"
   ]
  },
  {
   "cell_type": "code",
   "execution_count": null,
   "metadata": {
    "id": "qaeR2Kv4pG2y"
   },
   "outputs": [],
   "source": [
    "iter_val = iter(trainin )"
   ]
  },
  {
   "cell_type": "code",
   "execution_count": null,
   "metadata": {
    "colab": {
     "base_uri": "https://localhost:8080/",
     "height": 236
    },
    "id": "Oy_MXsZcewJ6",
    "outputId": "0a2c331a-618f-4246-a7df-51988d803c4b"
   },
   "outputs": [
    {
     "ename": "NameError",
     "evalue": "ignored",
     "output_type": "error",
     "traceback": [
      "\u001b[0;31m---------------------------------------------------------------------------\u001b[0m",
      "\u001b[0;31mNameError\u001b[0m                                 Traceback (most recent call last)",
      "\u001b[0;32m<ipython-input-31-8d36d9f00b8a>\u001b[0m in \u001b[0;36m<module>\u001b[0;34m\u001b[0m\n\u001b[1;32m      4\u001b[0m \u001b[0mrgb\u001b[0m \u001b[0;34m=\u001b[0m \u001b[0md\u001b[0m\u001b[0;34m[\u001b[0m\u001b[0;34m'image'\u001b[0m\u001b[0;34m]\u001b[0m\u001b[0;34m\u001b[0m\u001b[0;34m\u001b[0m\u001b[0m\n\u001b[1;32m      5\u001b[0m \u001b[0mlabel\u001b[0m \u001b[0;34m=\u001b[0m \u001b[0md\u001b[0m\u001b[0;34m[\u001b[0m\u001b[0;34m'label'\u001b[0m\u001b[0;34m]\u001b[0m\u001b[0;34m\u001b[0m\u001b[0;34m\u001b[0m\u001b[0m\n\u001b[0;32m----> 6\u001b[0;31m \u001b[0mmodel\u001b[0m\u001b[0;34m.\u001b[0m\u001b[0meval\u001b[0m\u001b[0;34m(\u001b[0m\u001b[0;34m)\u001b[0m\u001b[0;34m\u001b[0m\u001b[0;34m\u001b[0m\u001b[0m\n\u001b[0m\u001b[1;32m      7\u001b[0m \u001b[0mpred_label\u001b[0m \u001b[0;34m=\u001b[0m \u001b[0mnp\u001b[0m\u001b[0;34m.\u001b[0m\u001b[0margmax\u001b[0m\u001b[0;34m(\u001b[0m\u001b[0mnp\u001b[0m\u001b[0;34m.\u001b[0m\u001b[0mtranspose\u001b[0m\u001b[0;34m(\u001b[0m\u001b[0mnp\u001b[0m\u001b[0;34m.\u001b[0m\u001b[0msqueeze\u001b[0m\u001b[0;34m(\u001b[0m\u001b[0mmodel\u001b[0m\u001b[0;34m(\u001b[0m\u001b[0mtorch\u001b[0m\u001b[0;34m.\u001b[0m\u001b[0munsqueeze\u001b[0m\u001b[0;34m(\u001b[0m\u001b[0mrgb\u001b[0m\u001b[0;34m,\u001b[0m\u001b[0;36m0\u001b[0m\u001b[0;34m)\u001b[0m\u001b[0;34m.\u001b[0m\u001b[0mto\u001b[0m\u001b[0;34m(\u001b[0m\u001b[0mdevice\u001b[0m\u001b[0;34m)\u001b[0m\u001b[0;34m)\u001b[0m\u001b[0;34m.\u001b[0m\u001b[0mcpu\u001b[0m\u001b[0;34m(\u001b[0m\u001b[0;34m)\u001b[0m\u001b[0;34m.\u001b[0m\u001b[0mdetach\u001b[0m\u001b[0;34m(\u001b[0m\u001b[0;34m)\u001b[0m\u001b[0;34m.\u001b[0m\u001b[0mnumpy\u001b[0m\u001b[0;34m(\u001b[0m\u001b[0;34m)\u001b[0m\u001b[0;34m,\u001b[0m\u001b[0;36m0\u001b[0m\u001b[0;34m)\u001b[0m\u001b[0;34m,\u001b[0m\u001b[0;34m(\u001b[0m\u001b[0;36m1\u001b[0m\u001b[0;34m,\u001b[0m\u001b[0;36m2\u001b[0m\u001b[0;34m,\u001b[0m\u001b[0;36m0\u001b[0m\u001b[0;34m)\u001b[0m\u001b[0;34m)\u001b[0m\u001b[0;34m,\u001b[0m\u001b[0;34m-\u001b[0m\u001b[0;36m1\u001b[0m\u001b[0;34m)\u001b[0m\u001b[0;34m\u001b[0m\u001b[0;34m\u001b[0m\u001b[0m\n\u001b[1;32m      8\u001b[0m \u001b[0;31m# pred_label =\u001b[0m\u001b[0;34m\u001b[0m\u001b[0;34m\u001b[0m\u001b[0;34m\u001b[0m\u001b[0m\n",
      "\u001b[0;31mNameError\u001b[0m: name 'model' is not defined"
     ]
    }
   ],
   "source": [
    "import numpy as np\n",
    "import matplotlib.pyplot as plt\n",
    "d = dataset_val[0]\n",
    "rgb = d['image']\n",
    "label = d['label']\n",
    "model.eval()\n",
    "pred_label = np.argmax(np.transpose(np.squeeze(model(torch.unsqueeze(rgb,0).to(device)).cpu().detach().numpy(),0),(1,2,0)),-1)\n",
    "# pred_label = \n",
    "# model.eval()\n",
    "# test_labels = np.argmin(np.transpose(model(torch.tensor(np.transpose(test_images,(0,3,1,2))).float().to(device)).detach().cpu().numpy(),(0,2,3,1)),axis=-1)*255\n",
    "\n",
    "plt.figure(figsize=(30, 20))\n",
    "plt.subplot(1, 3, 1)\n",
    "plt.imshow(np.transpose(rgb,(1,2,0)))\n",
    "plt.subplot(1, 3, 2)\n",
    "plt.imshow(COLOR_PALETTE[label])\n",
    "plt.subplot(1, 3, 3)\n",
    "plt.imshow(COLOR_PALETTE[pred_label])  # draw colorful segmentation"
   ]
  },
  {
   "cell_type": "markdown",
   "metadata": {
    "id": "2y9gb-DVI7Gx"
   },
   "source": [
    "## Test Testing"
   ]
  },
  {
   "cell_type": "code",
   "execution_count": null,
   "metadata": {
    "id": "mja3ppUgJBaP"
   },
   "outputs": [],
   "source": []
  },
  {
   "cell_type": "markdown",
   "metadata": {
    "id": "rivhAAx2pfuq"
   },
   "source": [
    "## Prediction from Weights "
   ]
  },
  {
   "cell_type": "code",
   "execution_count": null,
   "metadata": {
    "colab": {
     "base_uri": "https://localhost:8080/"
    },
    "id": "8QTmdZIvL6Iq",
    "outputId": "26cf2148-1b41-4fc6-ef76-53b4d65a6a95"
   },
   "outputs": [
    {
     "name": "stdout",
     "output_type": "stream",
     "text": [
      "HW3.pdf\t\t\t\t     saved_model_2022_12_07T03_53_02.pth\n",
      "saved_model_2022_12_07T03_23_55.pth  saved_model_2022_12_07T03_56_29.pth\n",
      "saved_model_2022_12_07T03_49_37.pth\n"
     ]
    }
   ],
   "source": [
    "!ls  \"/content/drive/Othercomputers/My PC/UCSD Acads/Quarter 1/CSE 291/HW3/\""
   ]
  },
  {
   "cell_type": "code",
   "execution_count": null,
   "metadata": {
    "colab": {
     "base_uri": "https://localhost:8080/"
    },
    "id": "g1mrbq2Bqa9n",
    "outputId": "76060d02-92f3-4a7e-dfd9-494c8671bbc7"
   },
   "outputs": [
    {
     "data": {
      "text/plain": [
       "Unet(\n",
       "  (down1): Sequential(\n",
       "    (0): Conv2d(3, 64, kernel_size=(3, 3), stride=(1, 1), padding=same)\n",
       "    (1): BatchNorm2d(64, eps=1e-05, momentum=0.1, affine=True, track_running_stats=True)\n",
       "    (2): ReLU(inplace=True)\n",
       "    (3): Conv2d(64, 64, kernel_size=(3, 3), stride=(1, 1), padding=same)\n",
       "    (4): BatchNorm2d(64, eps=1e-05, momentum=0.1, affine=True, track_running_stats=True)\n",
       "    (5): ReLU(inplace=True)\n",
       "  )\n",
       "  (down2): Sequential(\n",
       "    (0): Conv2d(64, 128, kernel_size=(3, 3), stride=(1, 1), padding=same)\n",
       "    (1): BatchNorm2d(128, eps=1e-05, momentum=0.1, affine=True, track_running_stats=True)\n",
       "    (2): ReLU(inplace=True)\n",
       "    (3): Conv2d(128, 128, kernel_size=(3, 3), stride=(1, 1), padding=same)\n",
       "    (4): BatchNorm2d(128, eps=1e-05, momentum=0.1, affine=True, track_running_stats=True)\n",
       "    (5): ReLU(inplace=True)\n",
       "  )\n",
       "  (down3): Sequential(\n",
       "    (0): Conv2d(128, 256, kernel_size=(3, 3), stride=(1, 1), padding=same)\n",
       "    (1): BatchNorm2d(256, eps=1e-05, momentum=0.1, affine=True, track_running_stats=True)\n",
       "    (2): ReLU(inplace=True)\n",
       "    (3): Conv2d(256, 256, kernel_size=(3, 3), stride=(1, 1), padding=same)\n",
       "    (4): BatchNorm2d(256, eps=1e-05, momentum=0.1, affine=True, track_running_stats=True)\n",
       "    (5): ReLU(inplace=True)\n",
       "  )\n",
       "  (down4): Sequential(\n",
       "    (0): Conv2d(256, 512, kernel_size=(3, 3), stride=(1, 1), padding=same)\n",
       "    (1): BatchNorm2d(512, eps=1e-05, momentum=0.1, affine=True, track_running_stats=True)\n",
       "    (2): ReLU(inplace=True)\n",
       "    (3): Conv2d(512, 512, kernel_size=(3, 3), stride=(1, 1), padding=same)\n",
       "    (4): BatchNorm2d(512, eps=1e-05, momentum=0.1, affine=True, track_running_stats=True)\n",
       "    (5): ReLU(inplace=True)\n",
       "  )\n",
       "  (down5): Sequential(\n",
       "    (0): Conv2d(512, 1024, kernel_size=(3, 3), stride=(1, 1), padding=same)\n",
       "    (1): BatchNorm2d(1024, eps=1e-05, momentum=0.1, affine=True, track_running_stats=True)\n",
       "    (2): ReLU(inplace=True)\n",
       "    (3): Conv2d(1024, 1024, kernel_size=(3, 3), stride=(1, 1), padding=same)\n",
       "    (4): BatchNorm2d(1024, eps=1e-05, momentum=0.1, affine=True, track_running_stats=True)\n",
       "    (5): ReLU(inplace=True)\n",
       "  )\n",
       "  (up1): Sequential(\n",
       "    (0): Conv2d(64, 82, kernel_size=(3, 3), stride=(1, 1), padding=same)\n",
       "    (1): BatchNorm2d(82, eps=1e-05, momentum=0.1, affine=True, track_running_stats=True)\n",
       "    (2): ReLU(inplace=True)\n",
       "    (3): Conv2d(82, 82, kernel_size=(3, 3), stride=(1, 1), padding=same)\n",
       "    (4): BatchNorm2d(82, eps=1e-05, momentum=0.1, affine=True, track_running_stats=True)\n",
       "    (5): ReLU(inplace=True)\n",
       "  )\n",
       "  (up2): Sequential(\n",
       "    (0): Conv2d(128, 64, kernel_size=(3, 3), stride=(1, 1), padding=same)\n",
       "    (1): BatchNorm2d(64, eps=1e-05, momentum=0.1, affine=True, track_running_stats=True)\n",
       "    (2): ReLU(inplace=True)\n",
       "    (3): Conv2d(64, 64, kernel_size=(3, 3), stride=(1, 1), padding=same)\n",
       "    (4): BatchNorm2d(64, eps=1e-05, momentum=0.1, affine=True, track_running_stats=True)\n",
       "    (5): ReLU(inplace=True)\n",
       "  )\n",
       "  (up3): Sequential(\n",
       "    (0): Conv2d(256, 128, kernel_size=(3, 3), stride=(1, 1), padding=same)\n",
       "    (1): BatchNorm2d(128, eps=1e-05, momentum=0.1, affine=True, track_running_stats=True)\n",
       "    (2): ReLU(inplace=True)\n",
       "    (3): Conv2d(128, 128, kernel_size=(3, 3), stride=(1, 1), padding=same)\n",
       "    (4): BatchNorm2d(128, eps=1e-05, momentum=0.1, affine=True, track_running_stats=True)\n",
       "    (5): ReLU(inplace=True)\n",
       "  )\n",
       "  (up4): Sequential(\n",
       "    (0): Conv2d(512, 256, kernel_size=(3, 3), stride=(1, 1), padding=same)\n",
       "    (1): BatchNorm2d(256, eps=1e-05, momentum=0.1, affine=True, track_running_stats=True)\n",
       "    (2): ReLU(inplace=True)\n",
       "    (3): Conv2d(256, 256, kernel_size=(3, 3), stride=(1, 1), padding=same)\n",
       "    (4): BatchNorm2d(256, eps=1e-05, momentum=0.1, affine=True, track_running_stats=True)\n",
       "    (5): ReLU(inplace=True)\n",
       "  )\n",
       "  (up5): Sequential(\n",
       "    (0): Conv2d(1024, 512, kernel_size=(3, 3), stride=(1, 1), padding=same)\n",
       "    (1): BatchNorm2d(512, eps=1e-05, momentum=0.1, affine=True, track_running_stats=True)\n",
       "    (2): ReLU(inplace=True)\n",
       "    (3): Conv2d(512, 512, kernel_size=(3, 3), stride=(1, 1), padding=same)\n",
       "    (4): BatchNorm2d(512, eps=1e-05, momentum=0.1, affine=True, track_running_stats=True)\n",
       "    (5): ReLU(inplace=True)\n",
       "  )\n",
       "  (upConvT2): Sequential(\n",
       "    (0): ConvTranspose2d(128, 64, kernel_size=(2, 2), stride=(2, 2))\n",
       "    (1): BatchNorm2d(64, eps=1e-05, momentum=0.1, affine=True, track_running_stats=True)\n",
       "    (2): ReLU(inplace=True)\n",
       "  )\n",
       "  (upConvT3): Sequential(\n",
       "    (0): ConvTranspose2d(256, 128, kernel_size=(2, 2), stride=(2, 2))\n",
       "    (1): BatchNorm2d(128, eps=1e-05, momentum=0.1, affine=True, track_running_stats=True)\n",
       "    (2): ReLU(inplace=True)\n",
       "  )\n",
       "  (upConvT4): Sequential(\n",
       "    (0): ConvTranspose2d(512, 256, kernel_size=(2, 2), stride=(2, 2))\n",
       "    (1): BatchNorm2d(256, eps=1e-05, momentum=0.1, affine=True, track_running_stats=True)\n",
       "    (2): ReLU(inplace=True)\n",
       "  )\n",
       "  (upConvT5): Sequential(\n",
       "    (0): ConvTranspose2d(1024, 512, kernel_size=(2, 2), stride=(2, 2))\n",
       "    (1): BatchNorm2d(512, eps=1e-05, momentum=0.1, affine=True, track_running_stats=True)\n",
       "    (2): ReLU(inplace=True)\n",
       "  )\n",
       "  (softmax): Softmax(dim=1)\n",
       "  (chut): Conv2d(82, 82, kernel_size=(1, 1), stride=(1, 1), padding=same)\n",
       ")"
      ]
     },
     "execution_count": 33,
     "metadata": {},
     "output_type": "execute_result"
    }
   ],
   "source": [
    "model_loaded = Unet()\n",
    "device = torch.device('cuda' if torch.cuda.is_available() else 'cpu')\n",
    "\n",
    "pth_name = \"saved_model_2022_12_07T03_56_29.pth\"\n",
    "model_loaded.load_state_dict(torch.load(f'/content/drive/Othercomputers/My PC/UCSD Acads/Quarter 1/CSE 291/HW3/{pth_name}',map_location=torch.device(device)))\n",
    "\n",
    "model_loaded.to(device)"
   ]
  },
  {
   "cell_type": "code",
   "execution_count": null,
   "metadata": {
    "id": "1JZ6VxnCOX7M"
   },
   "outputs": [],
   "source": [
    "with open(\"./testing_data_pose_filtered/testing_data/test.txt\",'r') as f:\n",
    "    prefix = [os.path.join(testing_data_dir, line.strip()) for line in f if line.strip()]\n",
    "    rgb_test_files = [p + \"_color_kinect.png\" for p in prefix]\n",
    "    depth_test_files = [p + \"_depth_kinect.png\" for p in prefix]\n",
    "    meta_test_files= [p + \"_meta.pkl\" for p in prefix]\n"
   ]
  },
  {
   "cell_type": "code",
   "execution_count": null,
   "metadata": {
    "id": "QIkaO5FbOd7c"
   },
   "outputs": [],
   "source": [
    "dataset_test = Dataset(rgb_test_files,None)"
   ]
  },
  {
   "cell_type": "code",
   "execution_count": null,
   "metadata": {
    "id": "C9Zb1jbGUxqz"
   },
   "outputs": [],
   "source": [
    "rgb = np.array(Image.open(rgb_test_files[0])) / 255\n",
    "model_loaded.eval()\n",
    "rgb = torch.tensor(rgb,dtype=torch.float32).permute(2,0,1)\n",
    "label = np.argmax(np.transpose(np.squeeze(model_loaded(torch.unsqueeze(rgb,0).to(device)).cpu().detach().numpy(),0),(1,2,0)),-1)\n"
   ]
  },
  {
   "cell_type": "code",
   "execution_count": null,
   "metadata": {
    "colab": {
     "base_uri": "https://localhost:8080/",
     "height": 380
    },
    "id": "CzGKyKuEO277",
    "outputId": "03db0f4f-2a34-4790-a449-7e99044ca9c9"
   },
   "outputs": [
    {
     "data": {
      "text/plain": [
       "<matplotlib.image.AxesImage at 0x7ff50bee4460>"
      ]
     },
     "execution_count": 40,
     "metadata": {},
     "output_type": "execute_result"
    },
    {
     "data": {
      "image/png": "[encoded data removed]",
      "text/plain": [
       "<Figure size 2160x1440 with 2 Axes>"
      ]
     },
     "metadata": {
      "needs_background": "light"
     },
     "output_type": "display_data"
    }
   ],
   "source": [
    "import numpy as np\n",
    "import matplotlib.pyplot as plt\n",
    "\n",
    "rgb = dataset_train[0]['image']\n",
    "\n",
    "model_loaded.eval()\n",
    "pred_label = np.argmax(np.transpose(np.squeeze(model_loaded(torch.unsqueeze(rgb,0).to(device)).cpu().detach().numpy(),0),(1,2,0)),-1)\n",
    "# pred_label = \n",
    "# model.eval()\n",
    "# test_labels = np.argmin(np.transpose(model(torch.tensor(np.transpose(test_images,(0,3,1,2))).float().to(device)).detach().cpu().numpy(),(0,2,3,1)),axis=-1)*255\n",
    "\n",
    "plt.figure(figsize=(30, 20))\n",
    "plt.subplot(1, 2, 1)\n",
    "plt.imshow(np.transpose(rgb,(1,2,0)))\n",
    "# plt.subplot(1, 3, 2)\n",
    "# plt.imshow(COLOR_PALETTE[label])\n",
    "plt.subplot(1, 2, 2)\n",
    "plt.imshow(COLOR_PALETTE[pred_label])  # draw colorful segmentation"
   ]
  },
  {
   "cell_type": "code",
   "execution_count": null,
   "metadata": {
    "id": "7msNRq_GQdzS"
   },
   "outputs": [],
   "source": []
  }
 ],
 "metadata": {
  "accelerator": "GPU",
  "colab": {
   "provenance": []
  },
  "gpuClass": "standard",
  "kernelspec": {
   "display_name": "Python 3 (ipykernel)",
   "language": "python",
   "name": "python3"
  },
  "language_info": {
   "codemirror_mode": {
    "name": "ipython",
    "version": 3
   },
   "file_extension": ".py",
   "mimetype": "text/x-python",
   "name": "python",
   "nbconvert_exporter": "python",
   "pygments_lexer": "ipython3",
   "version": "3.9.12"
  }
 },
 "nbformat": 4,
 "nbformat_minor": 4
}
